{
 "cells": [
  {
   "cell_type": "markdown",
   "id": "b3781906",
   "metadata": {},
   "source": [
    "## Problem Statement"
   ]
  },
  {
   "cell_type": "markdown",
   "id": "225a5f43",
   "metadata": {},
   "source": [
    "#### To develop a machine learning model to predict whether a free plan user would convert to a paid subscriber or not."
   ]
  },
  {
   "cell_type": "markdown",
   "id": "69594502",
   "metadata": {},
   "source": [
    "We have engagement data and subscription information for users of 365DataScience from 1st of Jan to 20th October 2022. Using this engagement data and subscription information (paid/free). we should develop a model that can predict if a new free user will pay and subscribe or not."
   ]
  },
  {
   "cell_type": "markdown",
   "id": "e4f71201",
   "metadata": {},
   "source": [
    "Features of interest are already extracted via SQL manipulation of interaction data (file attached). Moving to python, we will perform following steps - \n",
    "\n",
    "- Further exploratory data analysis or feature engineering (dimension reduction and standardization etc.)\n",
    "- Train and Test split\n",
    "- Balance the classes in case of imbalance\n",
    "- Application of various models and method to analyze the best performance."
   ]
  },
  {
   "cell_type": "markdown",
   "id": "29a4e916",
   "metadata": {},
   "source": [
    "#### How to evaluate best performing model?"
   ]
  },
  {
   "cell_type": "markdown",
   "id": "fd06111c",
   "metadata": {},
   "source": [
    "The (assumed) business purpose is to target and send customized offers to potential upgraders to convert to paid subscription. In that context, we should develop a model that minimizes false negatives since we dont want to miss opportunity to reach any perspective upgraders."
   ]
  },
  {
   "cell_type": "markdown",
   "id": "63724d4b",
   "metadata": {},
   "source": [
    "![Business impact of confusion metrix](conf.jpg)"
   ]
  },
  {
   "cell_type": "markdown",
   "id": "640d1f3c",
   "metadata": {},
   "source": [
    "## Importing Required Libraries"
   ]
  },
  {
   "cell_type": "code",
   "execution_count": 1,
   "id": "aebbbca5",
   "metadata": {},
   "outputs": [],
   "source": [
    "# Basic packages\n",
    "import numpy as np\n",
    "import pandas as pd\n",
    "import matplotlib.pyplot as plt\n",
    "import seaborn as sns\n",
    "sns.set()\n",
    "\n",
    "# Preprocessing\n",
    "from sklearn.model_selection import train_test_split, RepeatedStratifiedKFold\n",
    "from sklearn.preprocessing import StandardScaler\n",
    "from sklearn.decomposition import PCA\n",
    "\n",
    "import warnings\n",
    "warnings.filterwarnings(\"ignore\")\n",
    "\n",
    "from collections import Counter\n",
    "\n",
    "# Data balancing combining over and under sampling\n",
    "from imblearn.combine import SMOTETomek\n",
    "from imblearn.over_sampling import RandomOverSampler\n",
    "from imblearn.under_sampling import RandomUnderSampler\n",
    "\n",
    "# Grid search for hyper parameter tuning and CV\n",
    "from sklearn.model_selection import GridSearchCV, RandomizedSearchCV\n",
    "\n",
    "# Logistic Regression\n",
    "from sklearn.linear_model import LogisticRegression\n",
    "\n",
    "# Random Forest\n",
    "from sklearn.ensemble import RandomForestClassifier\n",
    "\n",
    "# XGBoost\n",
    "from xgboost import XGBClassifier\n",
    "\n",
    "# Histogram Gradient Boosting\n",
    "from sklearn.ensemble import HistGradientBoostingClassifier\n",
    "\n",
    "# accuracy metrics\n",
    "from sklearn.metrics import log_loss, roc_auc_score, recall_score, precision_score, average_precision_score, f1_score, classification_report, accuracy_score, plot_roc_curve, plot_precision_recall_curve, confusion_matrix, ConfusionMatrixDisplay, roc_curve\n",
    "\n",
    "# deployment\n",
    "import pickle"
   ]
  },
  {
   "cell_type": "markdown",
   "id": "3c77ac9f",
   "metadata": {},
   "source": [
    "## Loading Data"
   ]
  },
  {
   "cell_type": "code",
   "execution_count": 2,
   "id": "8d9cecdb",
   "metadata": {},
   "outputs": [
    {
     "data": {
      "text/html": [
       "<div>\n",
       "<style scoped>\n",
       "    .dataframe tbody tr th:only-of-type {\n",
       "        vertical-align: middle;\n",
       "    }\n",
       "\n",
       "    .dataframe tbody tr th {\n",
       "        vertical-align: top;\n",
       "    }\n",
       "\n",
       "    .dataframe thead th {\n",
       "        text-align: right;\n",
       "    }\n",
       "</style>\n",
       "<table border=\"1\" class=\"dataframe\">\n",
       "  <thead>\n",
       "    <tr style=\"text-align: right;\">\n",
       "      <th></th>\n",
       "      <th>student_id</th>\n",
       "      <th>student_country</th>\n",
       "      <th>date_registered</th>\n",
       "      <th>first_date_purchased</th>\n",
       "      <th>mins_watched_14d</th>\n",
       "      <th>quiz_engagements_14d</th>\n",
       "      <th>exams_engagements_14d</th>\n",
       "      <th>lessons_engagements_14d</th>\n",
       "      <th>course_ratings_14d</th>\n",
       "      <th>hub_questions_14d</th>\n",
       "      <th>reg_status</th>\n",
       "    </tr>\n",
       "  </thead>\n",
       "  <tbody>\n",
       "    <tr>\n",
       "      <th>0</th>\n",
       "      <td>258798</td>\n",
       "      <td>IN</td>\n",
       "      <td>2022-01-01</td>\n",
       "      <td>NaN</td>\n",
       "      <td>0.3</td>\n",
       "      <td>0</td>\n",
       "      <td>0</td>\n",
       "      <td>1</td>\n",
       "      <td>0.0</td>\n",
       "      <td>0</td>\n",
       "      <td>0</td>\n",
       "    </tr>\n",
       "    <tr>\n",
       "      <th>1</th>\n",
       "      <td>258799</td>\n",
       "      <td>CO</td>\n",
       "      <td>2022-01-01</td>\n",
       "      <td>NaN</td>\n",
       "      <td>0.0</td>\n",
       "      <td>0</td>\n",
       "      <td>0</td>\n",
       "      <td>0</td>\n",
       "      <td>0.0</td>\n",
       "      <td>0</td>\n",
       "      <td>0</td>\n",
       "    </tr>\n",
       "    <tr>\n",
       "      <th>2</th>\n",
       "      <td>258800</td>\n",
       "      <td>CA</td>\n",
       "      <td>2022-01-01</td>\n",
       "      <td>2022-01-01</td>\n",
       "      <td>268.4</td>\n",
       "      <td>6</td>\n",
       "      <td>3</td>\n",
       "      <td>10</td>\n",
       "      <td>0.0</td>\n",
       "      <td>0</td>\n",
       "      <td>1</td>\n",
       "    </tr>\n",
       "    <tr>\n",
       "      <th>3</th>\n",
       "      <td>258801</td>\n",
       "      <td>IN</td>\n",
       "      <td>2022-01-01</td>\n",
       "      <td>NaN</td>\n",
       "      <td>0.0</td>\n",
       "      <td>0</td>\n",
       "      <td>0</td>\n",
       "      <td>0</td>\n",
       "      <td>0.0</td>\n",
       "      <td>0</td>\n",
       "      <td>0</td>\n",
       "    </tr>\n",
       "    <tr>\n",
       "      <th>4</th>\n",
       "      <td>258802</td>\n",
       "      <td>US</td>\n",
       "      <td>2022-01-01</td>\n",
       "      <td>NaN</td>\n",
       "      <td>0.0</td>\n",
       "      <td>0</td>\n",
       "      <td>0</td>\n",
       "      <td>0</td>\n",
       "      <td>0.0</td>\n",
       "      <td>0</td>\n",
       "      <td>0</td>\n",
       "    </tr>\n",
       "  </tbody>\n",
       "</table>\n",
       "</div>"
      ],
      "text/plain": [
       "   student_id student_country date_registered first_date_purchased  \\\n",
       "0      258798              IN      2022-01-01                  NaN   \n",
       "1      258799              CO      2022-01-01                  NaN   \n",
       "2      258800              CA      2022-01-01           2022-01-01   \n",
       "3      258801              IN      2022-01-01                  NaN   \n",
       "4      258802              US      2022-01-01                  NaN   \n",
       "\n",
       "   mins_watched_14d  quiz_engagements_14d  exams_engagements_14d  \\\n",
       "0               0.3                     0                      0   \n",
       "1               0.0                     0                      0   \n",
       "2             268.4                     6                      3   \n",
       "3               0.0                     0                      0   \n",
       "4               0.0                     0                      0   \n",
       "\n",
       "   lessons_engagements_14d  course_ratings_14d  hub_questions_14d  reg_status  \n",
       "0                        1                 0.0                  0           0  \n",
       "1                        0                 0.0                  0           0  \n",
       "2                       10                 0.0                  0           1  \n",
       "3                        0                 0.0                  0           0  \n",
       "4                        0                 0.0                  0           0  "
      ]
     },
     "execution_count": 2,
     "metadata": {},
     "output_type": "execute_result"
    }
   ],
   "source": [
    "# The relevent features are already extracted using SQL manipulation from the interaction data.\n",
    "raw_data = pd.read_csv('365_feature_data.csv')\n",
    "data = raw_data.copy()\n",
    "data.head()"
   ]
  },
  {
   "cell_type": "markdown",
   "id": "f1fefbf7",
   "metadata": {},
   "source": [
    "We have a list of students (**student_id**) togather with their country (**student_country**) and registration date (**date_registered**) and purchase date (**date_purchased**) if they made subscription purchase. Apart from this metadata, we have following features that we think will be useful for subscription prediction - \n",
    "\n",
    "- **mins_watched_14d** - Totals mins of course video watched by students in first 14 days of registration.\n",
    "- **quiz_engagements_14d** - Number of quizes students engaged in first 14 days of registration.\n",
    "- **exams_engagements_14d** - Number of exams students engaged with in first 14 days of registration.\n",
    "- **lessons_engagements_14d** - Number of lessons students engaged with in first 14 days of registration.\n",
    "- **course_ratings_14d** - average of all course ratings given (0 - 5) in first 14 days of registrations.\n",
    "- **hub_questions_14d** - number of hub questions asked in first 14 days of registartion\n",
    "\n",
    "Our Target variable is **reg_status** which is 0 if the students have never purchased and 1 if they have ever purchased paid subscription.\n",
    "Note: students can purchase multiple subscriptions in the time period if the previous one's get expired. They can also keep changing their status from free to paid multiple timee. We have left that out of scope in the current problem statement and are considering only the first purchase as turning point from free to paid."
   ]
  },
  {
   "cell_type": "markdown",
   "id": "e4462ec8",
   "metadata": {},
   "source": [
    "## EDA and Feature Engineering"
   ]
  },
  {
   "cell_type": "code",
   "execution_count": 3,
   "id": "4cb461f9",
   "metadata": {},
   "outputs": [],
   "source": [
    "# isolating the features that will be used for modelling\n",
    "# all the choosen features are numerical\n",
    "features = data.drop(columns=['reg_status','student_id','student_country','date_registered','first_date_purchased']).columns"
   ]
  },
  {
   "cell_type": "code",
   "execution_count": 4,
   "id": "91f84777",
   "metadata": {},
   "outputs": [
    {
     "data": {
      "image/png": "[encoded data removed]",
      "text/plain": [
       "<Figure size 864x648 with 2 Axes>"
      ]
     },
     "metadata": {},
     "output_type": "display_data"
    }
   ],
   "source": [
    "# Correlation between features\n",
    "plt.figure(figsize = (12,9))\n",
    "s = sns.heatmap(data[features].corr(),\n",
    "               annot = True,\n",
    "               cmap = \"RdBu\",\n",
    "               vmin = -1,\n",
    "               vmax = 1)\n",
    "s.set_yticklabels(s.get_yticklabels(), rotation = 0, fontsize = 12)\n",
    "s.set_xticklabels(s.get_xticklabels(), rotation = 90, fontsize = 12)\n",
    "plt.title(\"Correlation Heatmap\")\n",
    "plt.show()"
   ]
  },
  {
   "cell_type": "markdown",
   "id": "053cfe9f",
   "metadata": {},
   "source": [
    "Lot of features seem to correlate with each other. Hence reducing dimensions should be effective in model estimation. \n",
    "We shall apply **PCA** to reduce dimenstinality in this case."
   ]
  },
  {
   "cell_type": "markdown",
   "id": "f1d399a5",
   "metadata": {},
   "source": [
    "### Standardization"
   ]
  },
  {
   "cell_type": "code",
   "execution_count": 5,
   "id": "49017d11",
   "metadata": {},
   "outputs": [],
   "source": [
    "scaler = StandardScaler()\n",
    "data_std = scaler.fit_transform(data[features])"
   ]
  },
  {
   "cell_type": "markdown",
   "id": "09c92d36",
   "metadata": {},
   "source": [
    "### PCA"
   ]
  },
  {
   "cell_type": "code",
   "execution_count": 6,
   "id": "ed499247",
   "metadata": {},
   "outputs": [],
   "source": [
    "pca = PCA()"
   ]
  },
  {
   "cell_type": "code",
   "execution_count": 7,
   "id": "56661ba8",
   "metadata": {},
   "outputs": [
    {
     "data": {
      "text/html": [
       "<style>#sk-container-id-1 {color: black;background-color: white;}#sk-container-id-1 pre{padding: 0;}#sk-container-id-1 div.sk-toggleable {background-color: white;}#sk-container-id-1 label.sk-toggleable__label {cursor: pointer;display: block;width: 100%;margin-bottom: 0;padding: 0.3em;box-sizing: border-box;text-align: center;}#sk-container-id-1 label.sk-toggleable__label-arrow:before {content: \"▸\";float: left;margin-right: 0.25em;color: #696969;}#sk-container-id-1 label.sk-toggleable__label-arrow:hover:before {color: black;}#sk-container-id-1 div.sk-estimator:hover label.sk-toggleable__label-arrow:before {color: black;}#sk-container-id-1 div.sk-toggleable__content {max-height: 0;max-width: 0;overflow: hidden;text-align: left;background-color: #f0f8ff;}#sk-container-id-1 div.sk-toggleable__content pre {margin: 0.2em;color: black;border-radius: 0.25em;background-color: #f0f8ff;}#sk-container-id-1 input.sk-toggleable__control:checked~div.sk-toggleable__content {max-height: 200px;max-width: 100%;overflow: auto;}#sk-container-id-1 input.sk-toggleable__control:checked~label.sk-toggleable__label-arrow:before {content: \"▾\";}#sk-container-id-1 div.sk-estimator input.sk-toggleable__control:checked~label.sk-toggleable__label {background-color: #d4ebff;}#sk-container-id-1 div.sk-label input.sk-toggleable__control:checked~label.sk-toggleable__label {background-color: #d4ebff;}#sk-container-id-1 input.sk-hidden--visually {border: 0;clip: rect(1px 1px 1px 1px);clip: rect(1px, 1px, 1px, 1px);height: 1px;margin: -1px;overflow: hidden;padding: 0;position: absolute;width: 1px;}#sk-container-id-1 div.sk-estimator {font-family: monospace;background-color: #f0f8ff;border: 1px dotted black;border-radius: 0.25em;box-sizing: border-box;margin-bottom: 0.5em;}#sk-container-id-1 div.sk-estimator:hover {background-color: #d4ebff;}#sk-container-id-1 div.sk-parallel-item::after {content: \"\";width: 100%;border-bottom: 1px solid gray;flex-grow: 1;}#sk-container-id-1 div.sk-label:hover label.sk-toggleable__label {background-color: #d4ebff;}#sk-container-id-1 div.sk-serial::before {content: \"\";position: absolute;border-left: 1px solid gray;box-sizing: border-box;top: 0;bottom: 0;left: 50%;z-index: 0;}#sk-container-id-1 div.sk-serial {display: flex;flex-direction: column;align-items: center;background-color: white;padding-right: 0.2em;padding-left: 0.2em;position: relative;}#sk-container-id-1 div.sk-item {position: relative;z-index: 1;}#sk-container-id-1 div.sk-parallel {display: flex;align-items: stretch;justify-content: center;background-color: white;position: relative;}#sk-container-id-1 div.sk-item::before, #sk-container-id-1 div.sk-parallel-item::before {content: \"\";position: absolute;border-left: 1px solid gray;box-sizing: border-box;top: 0;bottom: 0;left: 50%;z-index: -1;}#sk-container-id-1 div.sk-parallel-item {display: flex;flex-direction: column;z-index: 1;position: relative;background-color: white;}#sk-container-id-1 div.sk-parallel-item:first-child::after {align-self: flex-end;width: 50%;}#sk-container-id-1 div.sk-parallel-item:last-child::after {align-self: flex-start;width: 50%;}#sk-container-id-1 div.sk-parallel-item:only-child::after {width: 0;}#sk-container-id-1 div.sk-dashed-wrapped {border: 1px dashed gray;margin: 0 0.4em 0.5em 0.4em;box-sizing: border-box;padding-bottom: 0.4em;background-color: white;}#sk-container-id-1 div.sk-label label {font-family: monospace;font-weight: bold;display: inline-block;line-height: 1.2em;}#sk-container-id-1 div.sk-label-container {text-align: center;}#sk-container-id-1 div.sk-container {/* jupyter's `normalize.less` sets `[hidden] { display: none; }` but bootstrap.min.css set `[hidden] { display: none !important; }` so we also need the `!important` here to be able to override the default hidden behavior on the sphinx rendered scikit-learn.org. See: https://github.com/scikit-learn/scikit-learn/issues/21755 */display: inline-block !important;position: relative;}#sk-container-id-1 div.sk-text-repr-fallback {display: none;}</style><div id=\"sk-container-id-1\" class=\"sk-top-container\"><div class=\"sk-text-repr-fallback\"><pre>PCA()</pre><b>In a Jupyter environment, please rerun this cell to show the HTML representation or trust the notebook. <br />On GitHub, the HTML representation is unable to render, please try loading this page with nbviewer.org.</b></div><div class=\"sk-container\" hidden><div class=\"sk-item\"><div class=\"sk-estimator sk-toggleable\"><input class=\"sk-toggleable__control sk-hidden--visually\" id=\"sk-estimator-id-1\" type=\"checkbox\" checked><label for=\"sk-estimator-id-1\" class=\"sk-toggleable__label sk-toggleable__label-arrow\">PCA</label><div class=\"sk-toggleable__content\"><pre>PCA()</pre></div></div></div></div></div>"
      ],
      "text/plain": [
       "PCA()"
      ]
     },
     "execution_count": 7,
     "metadata": {},
     "output_type": "execute_result"
    }
   ],
   "source": [
    "pca.fit(data_std)"
   ]
  },
  {
   "cell_type": "code",
   "execution_count": 8,
   "id": "4eb6426a",
   "metadata": {},
   "outputs": [
    {
     "data": {
      "text/plain": [
       "array([0.57030993, 0.16243626, 0.13574249, 0.0682116 , 0.0343469 ,\n",
       "       0.02895282])"
      ]
     },
     "execution_count": 8,
     "metadata": {},
     "output_type": "execute_result"
    }
   ],
   "source": [
    "pca.explained_variance_ratio_"
   ]
  },
  {
   "cell_type": "code",
   "execution_count": 9,
   "id": "5b1e1271",
   "metadata": {},
   "outputs": [
    {
     "data": {
      "text/plain": [
       "Text(0, 0.5, 'Cumulative Explianed Variance')"
      ]
     },
     "execution_count": 9,
     "metadata": {},
     "output_type": "execute_result"
    },
    {
     "data": {
      "image/png": "[encoded data removed]",
      "text/plain": [
       "<Figure size 864x648 with 1 Axes>"
      ]
     },
     "metadata": {},
     "output_type": "display_data"
    }
   ],
   "source": [
    "# plotting the observed variance\n",
    "plt.figure(figsize = (12,9))\n",
    "plt.plot(range(1,7),pca.explained_variance_ratio_.cumsum(), marker = 'o', linestyle = '--')\n",
    "plt.title('Explained Variance by Components')\n",
    "plt.xlabel('Number of Components')\n",
    "plt.ylabel('Cumulative Explianed Variance')"
   ]
  },
  {
   "cell_type": "markdown",
   "id": "e48f695c",
   "metadata": {},
   "source": [
    "Almost 90% variance is explained by 3 PCs hence we will run PCA with 3 components."
   ]
  },
  {
   "cell_type": "code",
   "execution_count": 10,
   "id": "f92d4542",
   "metadata": {},
   "outputs": [],
   "source": [
    "pca = PCA(n_components = 3)"
   ]
  },
  {
   "cell_type": "code",
   "execution_count": 11,
   "id": "20268c19",
   "metadata": {},
   "outputs": [
    {
     "data": {
      "text/html": [
       "<style>#sk-container-id-2 {color: black;background-color: white;}#sk-container-id-2 pre{padding: 0;}#sk-container-id-2 div.sk-toggleable {background-color: white;}#sk-container-id-2 label.sk-toggleable__label {cursor: pointer;display: block;width: 100%;margin-bottom: 0;padding: 0.3em;box-sizing: border-box;text-align: center;}#sk-container-id-2 label.sk-toggleable__label-arrow:before {content: \"▸\";float: left;margin-right: 0.25em;color: #696969;}#sk-container-id-2 label.sk-toggleable__label-arrow:hover:before {color: black;}#sk-container-id-2 div.sk-estimator:hover label.sk-toggleable__label-arrow:before {color: black;}#sk-container-id-2 div.sk-toggleable__content {max-height: 0;max-width: 0;overflow: hidden;text-align: left;background-color: #f0f8ff;}#sk-container-id-2 div.sk-toggleable__content pre {margin: 0.2em;color: black;border-radius: 0.25em;background-color: #f0f8ff;}#sk-container-id-2 input.sk-toggleable__control:checked~div.sk-toggleable__content {max-height: 200px;max-width: 100%;overflow: auto;}#sk-container-id-2 input.sk-toggleable__control:checked~label.sk-toggleable__label-arrow:before {content: \"▾\";}#sk-container-id-2 div.sk-estimator input.sk-toggleable__control:checked~label.sk-toggleable__label {background-color: #d4ebff;}#sk-container-id-2 div.sk-label input.sk-toggleable__control:checked~label.sk-toggleable__label {background-color: #d4ebff;}#sk-container-id-2 input.sk-hidden--visually {border: 0;clip: rect(1px 1px 1px 1px);clip: rect(1px, 1px, 1px, 1px);height: 1px;margin: -1px;overflow: hidden;padding: 0;position: absolute;width: 1px;}#sk-container-id-2 div.sk-estimator {font-family: monospace;background-color: #f0f8ff;border: 1px dotted black;border-radius: 0.25em;box-sizing: border-box;margin-bottom: 0.5em;}#sk-container-id-2 div.sk-estimator:hover {background-color: #d4ebff;}#sk-container-id-2 div.sk-parallel-item::after {content: \"\";width: 100%;border-bottom: 1px solid gray;flex-grow: 1;}#sk-container-id-2 div.sk-label:hover label.sk-toggleable__label {background-color: #d4ebff;}#sk-container-id-2 div.sk-serial::before {content: \"\";position: absolute;border-left: 1px solid gray;box-sizing: border-box;top: 0;bottom: 0;left: 50%;z-index: 0;}#sk-container-id-2 div.sk-serial {display: flex;flex-direction: column;align-items: center;background-color: white;padding-right: 0.2em;padding-left: 0.2em;position: relative;}#sk-container-id-2 div.sk-item {position: relative;z-index: 1;}#sk-container-id-2 div.sk-parallel {display: flex;align-items: stretch;justify-content: center;background-color: white;position: relative;}#sk-container-id-2 div.sk-item::before, #sk-container-id-2 div.sk-parallel-item::before {content: \"\";position: absolute;border-left: 1px solid gray;box-sizing: border-box;top: 0;bottom: 0;left: 50%;z-index: -1;}#sk-container-id-2 div.sk-parallel-item {display: flex;flex-direction: column;z-index: 1;position: relative;background-color: white;}#sk-container-id-2 div.sk-parallel-item:first-child::after {align-self: flex-end;width: 50%;}#sk-container-id-2 div.sk-parallel-item:last-child::after {align-self: flex-start;width: 50%;}#sk-container-id-2 div.sk-parallel-item:only-child::after {width: 0;}#sk-container-id-2 div.sk-dashed-wrapped {border: 1px dashed gray;margin: 0 0.4em 0.5em 0.4em;box-sizing: border-box;padding-bottom: 0.4em;background-color: white;}#sk-container-id-2 div.sk-label label {font-family: monospace;font-weight: bold;display: inline-block;line-height: 1.2em;}#sk-container-id-2 div.sk-label-container {text-align: center;}#sk-container-id-2 div.sk-container {/* jupyter's `normalize.less` sets `[hidden] { display: none; }` but bootstrap.min.css set `[hidden] { display: none !important; }` so we also need the `!important` here to be able to override the default hidden behavior on the sphinx rendered scikit-learn.org. See: https://github.com/scikit-learn/scikit-learn/issues/21755 */display: inline-block !important;position: relative;}#sk-container-id-2 div.sk-text-repr-fallback {display: none;}</style><div id=\"sk-container-id-2\" class=\"sk-top-container\"><div class=\"sk-text-repr-fallback\"><pre>PCA(n_components=3)</pre><b>In a Jupyter environment, please rerun this cell to show the HTML representation or trust the notebook. <br />On GitHub, the HTML representation is unable to render, please try loading this page with nbviewer.org.</b></div><div class=\"sk-container\" hidden><div class=\"sk-item\"><div class=\"sk-estimator sk-toggleable\"><input class=\"sk-toggleable__control sk-hidden--visually\" id=\"sk-estimator-id-2\" type=\"checkbox\" checked><label for=\"sk-estimator-id-2\" class=\"sk-toggleable__label sk-toggleable__label-arrow\">PCA</label><div class=\"sk-toggleable__content\"><pre>PCA(n_components=3)</pre></div></div></div></div></div>"
      ],
      "text/plain": [
       "PCA(n_components=3)"
      ]
     },
     "execution_count": 11,
     "metadata": {},
     "output_type": "execute_result"
    }
   ],
   "source": [
    "pca.fit(data_std)"
   ]
  },
  {
   "cell_type": "code",
   "execution_count": 12,
   "id": "21ec96d1",
   "metadata": {},
   "outputs": [
    {
     "data": {
      "text/html": [
       "<div>\n",
       "<style scoped>\n",
       "    .dataframe tbody tr th:only-of-type {\n",
       "        vertical-align: middle;\n",
       "    }\n",
       "\n",
       "    .dataframe tbody tr th {\n",
       "        vertical-align: top;\n",
       "    }\n",
       "\n",
       "    .dataframe thead th {\n",
       "        text-align: right;\n",
       "    }\n",
       "</style>\n",
       "<table border=\"1\" class=\"dataframe\">\n",
       "  <thead>\n",
       "    <tr style=\"text-align: right;\">\n",
       "      <th></th>\n",
       "      <th>mins_watched_14d</th>\n",
       "      <th>quiz_engagements_14d</th>\n",
       "      <th>exams_engagements_14d</th>\n",
       "      <th>lessons_engagements_14d</th>\n",
       "      <th>course_ratings_14d</th>\n",
       "      <th>hub_questions_14d</th>\n",
       "    </tr>\n",
       "  </thead>\n",
       "  <tbody>\n",
       "    <tr>\n",
       "      <th>Component 1</th>\n",
       "      <td>0.481486</td>\n",
       "      <td>0.461824</td>\n",
       "      <td>0.479775</td>\n",
       "      <td>0.491877</td>\n",
       "      <td>0.262006</td>\n",
       "      <td>0.118808</td>\n",
       "    </tr>\n",
       "    <tr>\n",
       "      <th>Component 2</th>\n",
       "      <td>-0.008939</td>\n",
       "      <td>-0.063334</td>\n",
       "      <td>-0.002627</td>\n",
       "      <td>-0.038560</td>\n",
       "      <td>-0.234272</td>\n",
       "      <td>0.969295</td>\n",
       "    </tr>\n",
       "    <tr>\n",
       "      <th>Component 3</th>\n",
       "      <td>-0.118180</td>\n",
       "      <td>-0.182314</td>\n",
       "      <td>-0.080805</td>\n",
       "      <td>-0.181112</td>\n",
       "      <td>0.933468</td>\n",
       "      <td>0.205187</td>\n",
       "    </tr>\n",
       "  </tbody>\n",
       "</table>\n",
       "</div>"
      ],
      "text/plain": [
       "             mins_watched_14d  quiz_engagements_14d  exams_engagements_14d  \\\n",
       "Component 1          0.481486              0.461824               0.479775   \n",
       "Component 2         -0.008939             -0.063334              -0.002627   \n",
       "Component 3         -0.118180             -0.182314              -0.080805   \n",
       "\n",
       "             lessons_engagements_14d  course_ratings_14d  hub_questions_14d  \n",
       "Component 1                 0.491877            0.262006           0.118808  \n",
       "Component 2                -0.038560           -0.234272           0.969295  \n",
       "Component 3                -0.181112            0.933468           0.205187  "
      ]
     },
     "execution_count": 12,
     "metadata": {},
     "output_type": "execute_result"
    }
   ],
   "source": [
    "# understanding the correlation of the PCA loadings against the features\n",
    "df_pca_comp = pd.DataFrame(data = pca.components_,\n",
    "                          columns = data[features].columns.values,\n",
    "                          index = ['Component 1', 'Component 2', 'Component 3'])\n",
    "df_pca_comp"
   ]
  },
  {
   "cell_type": "code",
   "execution_count": 13,
   "id": "7465e040",
   "metadata": {},
   "outputs": [
    {
     "data": {
      "text/plain": [
       "([<matplotlib.axis.YTick at 0x1b1e3598820>,\n",
       "  <matplotlib.axis.YTick at 0x1b1e35980a0>,\n",
       "  <matplotlib.axis.YTick at 0x1b1e36714f0>],\n",
       " [Text(0, 0, 'Component 1'),\n",
       "  Text(0, 1, 'Component 2'),\n",
       "  Text(0, 2, 'Component 3')])"
      ]
     },
     "execution_count": 13,
     "metadata": {},
     "output_type": "execute_result"
    },
    {
     "data": {
      "image/png": "[encoded data removed]",
      "text/plain": [
       "<Figure size 432x288 with 2 Axes>"
      ]
     },
     "metadata": {},
     "output_type": "display_data"
    }
   ],
   "source": [
    "# visualized\n",
    "sns.heatmap(df_pca_comp,\n",
    "           vmin = -1,\n",
    "           vmax = 1,\n",
    "           cmap = 'RdBu',\n",
    "           annot = True)\n",
    "plt.yticks([0,1,2],\n",
    "          ['Component 1', 'Component 2', 'Component 3'],\n",
    "          rotation = 45,\n",
    "          fontsize = 9)"
   ]
  },
  {
   "cell_type": "markdown",
   "id": "acd4d4aa",
   "metadata": {},
   "source": [
    "We can see here that the first component explains data variablity from most of content consumption variables like lessons, course and exams watched. Second and third component covers number of questions asked and course ratings respectively. "
   ]
  },
  {
   "cell_type": "code",
   "execution_count": 14,
   "id": "2bdfd6c6",
   "metadata": {},
   "outputs": [],
   "source": [
    "scores_pca = pca.transform(data_std)"
   ]
  },
  {
   "cell_type": "code",
   "execution_count": 15,
   "id": "4bb10b16",
   "metadata": {},
   "outputs": [
    {
     "data": {
      "text/html": [
       "<div>\n",
       "<style scoped>\n",
       "    .dataframe tbody tr th:only-of-type {\n",
       "        vertical-align: middle;\n",
       "    }\n",
       "\n",
       "    .dataframe tbody tr th {\n",
       "        vertical-align: top;\n",
       "    }\n",
       "\n",
       "    .dataframe thead th {\n",
       "        text-align: right;\n",
       "    }\n",
       "</style>\n",
       "<table border=\"1\" class=\"dataframe\">\n",
       "  <thead>\n",
       "    <tr style=\"text-align: right;\">\n",
       "      <th></th>\n",
       "      <th>mins_watched_14d</th>\n",
       "      <th>quiz_engagements_14d</th>\n",
       "      <th>exams_engagements_14d</th>\n",
       "      <th>lessons_engagements_14d</th>\n",
       "      <th>course_ratings_14d</th>\n",
       "      <th>hub_questions_14d</th>\n",
       "      <th>Component 1</th>\n",
       "      <th>Component 2</th>\n",
       "      <th>Component 3</th>\n",
       "    </tr>\n",
       "  </thead>\n",
       "  <tbody>\n",
       "    <tr>\n",
       "      <th>0</th>\n",
       "      <td>0.3</td>\n",
       "      <td>0</td>\n",
       "      <td>0</td>\n",
       "      <td>1</td>\n",
       "      <td>0.0</td>\n",
       "      <td>0</td>\n",
       "      <td>-0.410164</td>\n",
       "      <td>0.015975</td>\n",
       "      <td>-0.048187</td>\n",
       "    </tr>\n",
       "    <tr>\n",
       "      <th>1</th>\n",
       "      <td>0.0</td>\n",
       "      <td>0</td>\n",
       "      <td>0</td>\n",
       "      <td>0</td>\n",
       "      <td>0.0</td>\n",
       "      <td>0</td>\n",
       "      <td>-0.704981</td>\n",
       "      <td>0.038991</td>\n",
       "      <td>0.060169</td>\n",
       "    </tr>\n",
       "    <tr>\n",
       "      <th>2</th>\n",
       "      <td>268.4</td>\n",
       "      <td>6</td>\n",
       "      <td>3</td>\n",
       "      <td>10</td>\n",
       "      <td>0.0</td>\n",
       "      <td>0</td>\n",
       "      <td>8.295016</td>\n",
       "      <td>-0.603188</td>\n",
       "      <td>-2.771635</td>\n",
       "    </tr>\n",
       "    <tr>\n",
       "      <th>3</th>\n",
       "      <td>0.0</td>\n",
       "      <td>0</td>\n",
       "      <td>0</td>\n",
       "      <td>0</td>\n",
       "      <td>0.0</td>\n",
       "      <td>0</td>\n",
       "      <td>-0.704981</td>\n",
       "      <td>0.038991</td>\n",
       "      <td>0.060169</td>\n",
       "    </tr>\n",
       "    <tr>\n",
       "      <th>4</th>\n",
       "      <td>0.0</td>\n",
       "      <td>0</td>\n",
       "      <td>0</td>\n",
       "      <td>0</td>\n",
       "      <td>0.0</td>\n",
       "      <td>0</td>\n",
       "      <td>-0.704981</td>\n",
       "      <td>0.038991</td>\n",
       "      <td>0.060169</td>\n",
       "    </tr>\n",
       "  </tbody>\n",
       "</table>\n",
       "</div>"
      ],
      "text/plain": [
       "   mins_watched_14d  quiz_engagements_14d  exams_engagements_14d  \\\n",
       "0               0.3                     0                      0   \n",
       "1               0.0                     0                      0   \n",
       "2             268.4                     6                      3   \n",
       "3               0.0                     0                      0   \n",
       "4               0.0                     0                      0   \n",
       "\n",
       "   lessons_engagements_14d  course_ratings_14d  hub_questions_14d  \\\n",
       "0                        1                 0.0                  0   \n",
       "1                        0                 0.0                  0   \n",
       "2                       10                 0.0                  0   \n",
       "3                        0                 0.0                  0   \n",
       "4                        0                 0.0                  0   \n",
       "\n",
       "   Component 1  Component 2  Component 3  \n",
       "0    -0.410164     0.015975    -0.048187  \n",
       "1    -0.704981     0.038991     0.060169  \n",
       "2     8.295016    -0.603188    -2.771635  \n",
       "3    -0.704981     0.038991     0.060169  \n",
       "4    -0.704981     0.038991     0.060169  "
      ]
     },
     "execution_count": 15,
     "metadata": {},
     "output_type": "execute_result"
    }
   ],
   "source": [
    "# adding pca components to the features dataset \n",
    "data_pca = pd.concat([data[features].reset_index(drop = True), pd.DataFrame(scores_pca)], axis = 1)\n",
    "data_pca.columns.values[-3: ] = ['Component 1','Component 2','Component 3']\n",
    "data_pca.head()"
   ]
  },
  {
   "cell_type": "code",
   "execution_count": 16,
   "id": "67d56c23",
   "metadata": {},
   "outputs": [
    {
     "data": {
      "text/html": [
       "<div>\n",
       "<style scoped>\n",
       "    .dataframe tbody tr th:only-of-type {\n",
       "        vertical-align: middle;\n",
       "    }\n",
       "\n",
       "    .dataframe tbody tr th {\n",
       "        vertical-align: top;\n",
       "    }\n",
       "\n",
       "    .dataframe thead th {\n",
       "        text-align: right;\n",
       "    }\n",
       "</style>\n",
       "<table border=\"1\" class=\"dataframe\">\n",
       "  <thead>\n",
       "    <tr style=\"text-align: right;\">\n",
       "      <th></th>\n",
       "      <th>Component 1</th>\n",
       "      <th>Component 2</th>\n",
       "      <th>Component 3</th>\n",
       "      <th>reg_status</th>\n",
       "    </tr>\n",
       "  </thead>\n",
       "  <tbody>\n",
       "    <tr>\n",
       "      <th>0</th>\n",
       "      <td>-0.410164</td>\n",
       "      <td>0.015975</td>\n",
       "      <td>-0.048187</td>\n",
       "      <td>0</td>\n",
       "    </tr>\n",
       "    <tr>\n",
       "      <th>1</th>\n",
       "      <td>-0.704981</td>\n",
       "      <td>0.038991</td>\n",
       "      <td>0.060169</td>\n",
       "      <td>0</td>\n",
       "    </tr>\n",
       "    <tr>\n",
       "      <th>2</th>\n",
       "      <td>8.295016</td>\n",
       "      <td>-0.603188</td>\n",
       "      <td>-2.771635</td>\n",
       "      <td>1</td>\n",
       "    </tr>\n",
       "    <tr>\n",
       "      <th>3</th>\n",
       "      <td>-0.704981</td>\n",
       "      <td>0.038991</td>\n",
       "      <td>0.060169</td>\n",
       "      <td>0</td>\n",
       "    </tr>\n",
       "    <tr>\n",
       "      <th>4</th>\n",
       "      <td>-0.704981</td>\n",
       "      <td>0.038991</td>\n",
       "      <td>0.060169</td>\n",
       "      <td>0</td>\n",
       "    </tr>\n",
       "  </tbody>\n",
       "</table>\n",
       "</div>"
      ],
      "text/plain": [
       "   Component 1  Component 2  Component 3  reg_status\n",
       "0    -0.410164     0.015975    -0.048187           0\n",
       "1    -0.704981     0.038991     0.060169           0\n",
       "2     8.295016    -0.603188    -2.771635           1\n",
       "3    -0.704981     0.038991     0.060169           0\n",
       "4    -0.704981     0.038991     0.060169           0"
      ]
     },
     "execution_count": 16,
     "metadata": {},
     "output_type": "execute_result"
    }
   ],
   "source": [
    "# Finally we will create 2 data frames each for PCA components and actual features for modelling and comparision\n",
    "pca_comp = data_pca.drop(columns=['mins_watched_14d','quiz_engagements_14d','exams_engagements_14d','lessons_engagements_14d','course_ratings_14d','hub_questions_14d']).columns\n",
    "df_pca = pd.concat([data_pca[pca_comp].reset_index(drop = True), data['reg_status']], axis = 1)\n",
    "df_pca.head()"
   ]
  },
  {
   "cell_type": "code",
   "execution_count": 17,
   "id": "6524a0e9",
   "metadata": {},
   "outputs": [
    {
     "data": {
      "text/html": [
       "<div>\n",
       "<style scoped>\n",
       "    .dataframe tbody tr th:only-of-type {\n",
       "        vertical-align: middle;\n",
       "    }\n",
       "\n",
       "    .dataframe tbody tr th {\n",
       "        vertical-align: top;\n",
       "    }\n",
       "\n",
       "    .dataframe thead th {\n",
       "        text-align: right;\n",
       "    }\n",
       "</style>\n",
       "<table border=\"1\" class=\"dataframe\">\n",
       "  <thead>\n",
       "    <tr style=\"text-align: right;\">\n",
       "      <th></th>\n",
       "      <th>mins_watched_14d</th>\n",
       "      <th>quiz_engagements_14d</th>\n",
       "      <th>exams_engagements_14d</th>\n",
       "      <th>lessons_engagements_14d</th>\n",
       "      <th>course_ratings_14d</th>\n",
       "      <th>hub_questions_14d</th>\n",
       "      <th>reg_status</th>\n",
       "    </tr>\n",
       "  </thead>\n",
       "  <tbody>\n",
       "    <tr>\n",
       "      <th>0</th>\n",
       "      <td>0.3</td>\n",
       "      <td>0</td>\n",
       "      <td>0</td>\n",
       "      <td>1</td>\n",
       "      <td>0.0</td>\n",
       "      <td>0</td>\n",
       "      <td>0</td>\n",
       "    </tr>\n",
       "    <tr>\n",
       "      <th>1</th>\n",
       "      <td>0.0</td>\n",
       "      <td>0</td>\n",
       "      <td>0</td>\n",
       "      <td>0</td>\n",
       "      <td>0.0</td>\n",
       "      <td>0</td>\n",
       "      <td>0</td>\n",
       "    </tr>\n",
       "    <tr>\n",
       "      <th>2</th>\n",
       "      <td>268.4</td>\n",
       "      <td>6</td>\n",
       "      <td>3</td>\n",
       "      <td>10</td>\n",
       "      <td>0.0</td>\n",
       "      <td>0</td>\n",
       "      <td>1</td>\n",
       "    </tr>\n",
       "    <tr>\n",
       "      <th>3</th>\n",
       "      <td>0.0</td>\n",
       "      <td>0</td>\n",
       "      <td>0</td>\n",
       "      <td>0</td>\n",
       "      <td>0.0</td>\n",
       "      <td>0</td>\n",
       "      <td>0</td>\n",
       "    </tr>\n",
       "    <tr>\n",
       "      <th>4</th>\n",
       "      <td>0.0</td>\n",
       "      <td>0</td>\n",
       "      <td>0</td>\n",
       "      <td>0</td>\n",
       "      <td>0.0</td>\n",
       "      <td>0</td>\n",
       "      <td>0</td>\n",
       "    </tr>\n",
       "  </tbody>\n",
       "</table>\n",
       "</div>"
      ],
      "text/plain": [
       "   mins_watched_14d  quiz_engagements_14d  exams_engagements_14d  \\\n",
       "0               0.3                     0                      0   \n",
       "1               0.0                     0                      0   \n",
       "2             268.4                     6                      3   \n",
       "3               0.0                     0                      0   \n",
       "4               0.0                     0                      0   \n",
       "\n",
       "   lessons_engagements_14d  course_ratings_14d  hub_questions_14d  reg_status  \n",
       "0                        1                 0.0                  0           0  \n",
       "1                        0                 0.0                  0           0  \n",
       "2                       10                 0.0                  0           1  \n",
       "3                        0                 0.0                  0           0  \n",
       "4                        0                 0.0                  0           0  "
      ]
     },
     "execution_count": 17,
     "metadata": {},
     "output_type": "execute_result"
    }
   ],
   "source": [
    "df = pd.concat([data_pca[features].reset_index(drop = True), data['reg_status']], axis = 1)\n",
    "df.head()"
   ]
  },
  {
   "cell_type": "markdown",
   "id": "29231b20",
   "metadata": {},
   "source": [
    "## Train / Test Split"
   ]
  },
  {
   "cell_type": "code",
   "execution_count": 18,
   "id": "99692334",
   "metadata": {},
   "outputs": [],
   "source": [
    "# splitting pca data\n",
    "random_seed = 365\n",
    "X_pca_train, X_pca_test, y_pca_train, y_pca_test = train_test_split(df_pca[pca_comp], df_pca['reg_status'], test_size=0.2, random_state=random_seed)"
   ]
  },
  {
   "cell_type": "code",
   "execution_count": 19,
   "id": "da83ea2e",
   "metadata": {},
   "outputs": [
    {
     "name": "stdout",
     "output_type": "stream",
     "text": [
      "(28184, 3)\n",
      "(7046, 3)\n",
      "(28184,)\n",
      "(7046,)\n",
      "0    0.938902\n",
      "1    0.061098\n",
      "Name: reg_status, dtype: float64\n",
      "0    0.941385\n",
      "1    0.058615\n",
      "Name: reg_status, dtype: float64\n"
     ]
    }
   ],
   "source": [
    "print(X_pca_train.shape)\n",
    "print(X_pca_test.shape)\n",
    "print(y_pca_train.shape)\n",
    "print(y_pca_test.shape)\n",
    "print(y_pca_train.value_counts(normalize=True))\n",
    "print(y_pca_test.value_counts(normalize=True))"
   ]
  },
  {
   "cell_type": "code",
   "execution_count": 20,
   "id": "9189f06a",
   "metadata": {},
   "outputs": [],
   "source": [
    "# splitting features data\n",
    "X_train, X_test, y_train, y_test = train_test_split(df[features], df['reg_status'], test_size=0.2, random_state=random_seed)"
   ]
  },
  {
   "cell_type": "code",
   "execution_count": 21,
   "id": "8350033c",
   "metadata": {},
   "outputs": [
    {
     "name": "stdout",
     "output_type": "stream",
     "text": [
      "(28184, 6)\n",
      "(7046, 6)\n",
      "(28184,)\n",
      "(7046,)\n",
      "0    0.938902\n",
      "1    0.061098\n",
      "Name: reg_status, dtype: float64\n",
      "0    0.941385\n",
      "1    0.058615\n",
      "Name: reg_status, dtype: float64\n"
     ]
    }
   ],
   "source": [
    "print(X_train.shape)\n",
    "print(X_test.shape)\n",
    "print(y_train.shape)\n",
    "print(y_test.shape)\n",
    "print(y_train.value_counts(normalize=True))\n",
    "print(y_test.value_counts(normalize=True))"
   ]
  },
  {
   "cell_type": "markdown",
   "id": "8fd5d2f1",
   "metadata": {},
   "source": [
    "We can notice that the subscription target variable is highly imbalanced, hence we will have to balance the training set. We will leave the testing set as is as we would like to test our models with imbalanced observations. This is how we expect prediction obervations to come by in real life scenario."
   ]
  },
  {
   "cell_type": "markdown",
   "id": "fe39ac91",
   "metadata": {},
   "source": [
    "## Handling Imbalance"
   ]
  },
  {
   "cell_type": "code",
   "execution_count": 22,
   "id": "ae072a11",
   "metadata": {},
   "outputs": [
    {
     "name": "stdout",
     "output_type": "stream",
     "text": [
      "Counter({0: 26462, 1: 13231})\n"
     ]
    }
   ],
   "source": [
    "# for pca training set\n",
    "# oversampling\n",
    "over_sampling = RandomOverSampler(sampling_strategy=0.5,random_state=0,shrinkage=0.5)\n",
    "X_pca_ovr,y_pca_ovr = over_sampling.fit_resample(X_pca_train,y_pca_train)\n",
    "counter = Counter(y_pca_ovr)\n",
    "print(counter)"
   ]
  },
  {
   "cell_type": "code",
   "execution_count": 23,
   "id": "24a3565c",
   "metadata": {},
   "outputs": [
    {
     "name": "stdout",
     "output_type": "stream",
     "text": [
      "Counter({0: 13231, 1: 13231})\n"
     ]
    }
   ],
   "source": [
    "# for pca training set\n",
    "# undersampling\n",
    "under_sampling = RandomUnderSampler(sampling_strategy=1,random_state=0)\n",
    "X_pca_res,y_pca_res = under_sampling.fit_resample(X_pca_ovr,y_pca_ovr)\n",
    "counter = Counter(y_pca_res)\n",
    "print(counter)"
   ]
  },
  {
   "cell_type": "code",
   "execution_count": 24,
   "id": "bd7bfe0a",
   "metadata": {},
   "outputs": [
    {
     "name": "stdout",
     "output_type": "stream",
     "text": [
      "Counter({0: 26462, 1: 13231})\n"
     ]
    }
   ],
   "source": [
    "# for features training set\n",
    "# oversampling\n",
    "over_sampling = RandomOverSampler(sampling_strategy=0.5,random_state=0,shrinkage=0.5)\n",
    "X_ovr,y_ovr = over_sampling.fit_resample(X_train,y_train)\n",
    "counter = Counter(y_ovr)\n",
    "print(counter)"
   ]
  },
  {
   "cell_type": "code",
   "execution_count": 25,
   "id": "1fd4a093",
   "metadata": {},
   "outputs": [
    {
     "name": "stdout",
     "output_type": "stream",
     "text": [
      "Counter({0: 13231, 1: 13231})\n"
     ]
    }
   ],
   "source": [
    "# undersampling\n",
    "under_sampling = RandomUnderSampler(sampling_strategy=1,random_state=0)\n",
    "X_res,y_res = under_sampling.fit_resample(X_ovr,y_ovr)\n",
    "counter = Counter(y_res)\n",
    "print(counter)"
   ]
  },
  {
   "cell_type": "markdown",
   "id": "5d5ea6f3",
   "metadata": {},
   "source": [
    "## Data Modelling"
   ]
  },
  {
   "cell_type": "markdown",
   "id": "71c94bdb",
   "metadata": {},
   "source": [
    "We will use a dictionary and a list to continuously store the results of our experiments and show them as a pandas dataframe."
   ]
  },
  {
   "cell_type": "code",
   "execution_count": 26,
   "id": "1e5818e6",
   "metadata": {},
   "outputs": [],
   "source": [
    "# as pointed out earlier, our evaluation criteria would be best recall\n",
    "index = []\n",
    "scores = {\"Accuracy\": []}"
   ]
  },
  {
   "cell_type": "markdown",
   "id": "ab34c2eb",
   "metadata": {},
   "source": [
    "### Model 1:  Logistic Regression"
   ]
  },
  {
   "cell_type": "code",
   "execution_count": 27,
   "id": "18f21f7f",
   "metadata": {},
   "outputs": [
    {
     "name": "stdout",
     "output_type": "stream",
     "text": [
      "Best: 0.821505 using {'C': 0.5, 'penalty': 'l2', 'solver': 'sag'}\n",
      "0.821455 (0.005706) with: {'C': 0.01, 'penalty': 'l2', 'solver': 'sag'}\n",
      "0.801917 (0.007260) with: {'C': 0.01, 'penalty': 'l2', 'solver': 'lbfgs'}\n",
      "0.821455 (0.005759) with: {'C': 0.1, 'penalty': 'l2', 'solver': 'sag'}\n",
      "0.801993 (0.007372) with: {'C': 0.1, 'penalty': 'l2', 'solver': 'lbfgs'}\n",
      "0.821480 (0.005756) with: {'C': 0.2, 'penalty': 'l2', 'solver': 'sag'}\n",
      "0.802031 (0.007490) with: {'C': 0.2, 'penalty': 'l2', 'solver': 'lbfgs'}\n",
      "0.821505 (0.005754) with: {'C': 0.5, 'penalty': 'l2', 'solver': 'sag'}\n",
      "0.802119 (0.007451) with: {'C': 0.5, 'penalty': 'l2', 'solver': 'lbfgs'}\n",
      "0.821480 (0.005756) with: {'C': 0.8, 'penalty': 'l2', 'solver': 'sag'}\n",
      "0.802131 (0.007452) with: {'C': 0.8, 'penalty': 'l2', 'solver': 'lbfgs'}\n",
      "0.821480 (0.005756) with: {'C': 10, 'penalty': 'l2', 'solver': 'sag'}\n",
      "0.802131 (0.007390) with: {'C': 10, 'penalty': 'l2', 'solver': 'lbfgs'}\n"
     ]
    }
   ],
   "source": [
    "model_1 = LogisticRegression(max_iter=300)\n",
    "solvers = ['sag','lbfgs']\n",
    "penalty = ['l2']\n",
    "c_values = [0.01,0.1,0.2,0.5,0.8,10]\n",
    "\n",
    "\n",
    "grid = dict(solver=solvers,penalty=penalty,C=c_values)\n",
    "cv = RepeatedStratifiedKFold(n_splits=10, n_repeats=3, random_state=1)\n",
    "grid_search = GridSearchCV(estimator=model_1, param_grid=grid, n_jobs=-1, cv=cv, scoring='accuracy',error_score=0)\n",
    "grid_result = grid_search.fit(X_res, y_res)\n",
    "\n",
    "\n",
    "print(\"Best: %f using %s\" % (grid_result.best_score_, grid_result.best_params_))\n",
    "means = grid_result.cv_results_['mean_test_score']\n",
    "stds = grid_result.cv_results_['std_test_score']\n",
    "params = grid_result.cv_results_['params']\n",
    "\n",
    "\n",
    "for mean, stdev, param in zip(means, stds, params):\n",
    "    print(\"%f (%f) with: %r\" % (mean, stdev, param))"
   ]
  },
  {
   "cell_type": "code",
   "execution_count": 28,
   "id": "e4b5ab8a",
   "metadata": {},
   "outputs": [
    {
     "data": {
      "text/html": [
       "<style>#sk-container-id-3 {color: black;background-color: white;}#sk-container-id-3 pre{padding: 0;}#sk-container-id-3 div.sk-toggleable {background-color: white;}#sk-container-id-3 label.sk-toggleable__label {cursor: pointer;display: block;width: 100%;margin-bottom: 0;padding: 0.3em;box-sizing: border-box;text-align: center;}#sk-container-id-3 label.sk-toggleable__label-arrow:before {content: \"▸\";float: left;margin-right: 0.25em;color: #696969;}#sk-container-id-3 label.sk-toggleable__label-arrow:hover:before {color: black;}#sk-container-id-3 div.sk-estimator:hover label.sk-toggleable__label-arrow:before {color: black;}#sk-container-id-3 div.sk-toggleable__content {max-height: 0;max-width: 0;overflow: hidden;text-align: left;background-color: #f0f8ff;}#sk-container-id-3 div.sk-toggleable__content pre {margin: 0.2em;color: black;border-radius: 0.25em;background-color: #f0f8ff;}#sk-container-id-3 input.sk-toggleable__control:checked~div.sk-toggleable__content {max-height: 200px;max-width: 100%;overflow: auto;}#sk-container-id-3 input.sk-toggleable__control:checked~label.sk-toggleable__label-arrow:before {content: \"▾\";}#sk-container-id-3 div.sk-estimator input.sk-toggleable__control:checked~label.sk-toggleable__label {background-color: #d4ebff;}#sk-container-id-3 div.sk-label input.sk-toggleable__control:checked~label.sk-toggleable__label {background-color: #d4ebff;}#sk-container-id-3 input.sk-hidden--visually {border: 0;clip: rect(1px 1px 1px 1px);clip: rect(1px, 1px, 1px, 1px);height: 1px;margin: -1px;overflow: hidden;padding: 0;position: absolute;width: 1px;}#sk-container-id-3 div.sk-estimator {font-family: monospace;background-color: #f0f8ff;border: 1px dotted black;border-radius: 0.25em;box-sizing: border-box;margin-bottom: 0.5em;}#sk-container-id-3 div.sk-estimator:hover {background-color: #d4ebff;}#sk-container-id-3 div.sk-parallel-item::after {content: \"\";width: 100%;border-bottom: 1px solid gray;flex-grow: 1;}#sk-container-id-3 div.sk-label:hover label.sk-toggleable__label {background-color: #d4ebff;}#sk-container-id-3 div.sk-serial::before {content: \"\";position: absolute;border-left: 1px solid gray;box-sizing: border-box;top: 0;bottom: 0;left: 50%;z-index: 0;}#sk-container-id-3 div.sk-serial {display: flex;flex-direction: column;align-items: center;background-color: white;padding-right: 0.2em;padding-left: 0.2em;position: relative;}#sk-container-id-3 div.sk-item {position: relative;z-index: 1;}#sk-container-id-3 div.sk-parallel {display: flex;align-items: stretch;justify-content: center;background-color: white;position: relative;}#sk-container-id-3 div.sk-item::before, #sk-container-id-3 div.sk-parallel-item::before {content: \"\";position: absolute;border-left: 1px solid gray;box-sizing: border-box;top: 0;bottom: 0;left: 50%;z-index: -1;}#sk-container-id-3 div.sk-parallel-item {display: flex;flex-direction: column;z-index: 1;position: relative;background-color: white;}#sk-container-id-3 div.sk-parallel-item:first-child::after {align-self: flex-end;width: 50%;}#sk-container-id-3 div.sk-parallel-item:last-child::after {align-self: flex-start;width: 50%;}#sk-container-id-3 div.sk-parallel-item:only-child::after {width: 0;}#sk-container-id-3 div.sk-dashed-wrapped {border: 1px dashed gray;margin: 0 0.4em 0.5em 0.4em;box-sizing: border-box;padding-bottom: 0.4em;background-color: white;}#sk-container-id-3 div.sk-label label {font-family: monospace;font-weight: bold;display: inline-block;line-height: 1.2em;}#sk-container-id-3 div.sk-label-container {text-align: center;}#sk-container-id-3 div.sk-container {/* jupyter's `normalize.less` sets `[hidden] { display: none; }` but bootstrap.min.css set `[hidden] { display: none !important; }` so we also need the `!important` here to be able to override the default hidden behavior on the sphinx rendered scikit-learn.org. See: https://github.com/scikit-learn/scikit-learn/issues/21755 */display: inline-block !important;position: relative;}#sk-container-id-3 div.sk-text-repr-fallback {display: none;}</style><div id=\"sk-container-id-3\" class=\"sk-top-container\"><div class=\"sk-text-repr-fallback\"><pre>LogisticRegression(C=0.5, solver=&#x27;sag&#x27;)</pre><b>In a Jupyter environment, please rerun this cell to show the HTML representation or trust the notebook. <br />On GitHub, the HTML representation is unable to render, please try loading this page with nbviewer.org.</b></div><div class=\"sk-container\" hidden><div class=\"sk-item\"><div class=\"sk-estimator sk-toggleable\"><input class=\"sk-toggleable__control sk-hidden--visually\" id=\"sk-estimator-id-3\" type=\"checkbox\" checked><label for=\"sk-estimator-id-3\" class=\"sk-toggleable__label sk-toggleable__label-arrow\">LogisticRegression</label><div class=\"sk-toggleable__content\"><pre>LogisticRegression(C=0.5, solver=&#x27;sag&#x27;)</pre></div></div></div></div></div>"
      ],
      "text/plain": [
       "LogisticRegression(C=0.5, solver='sag')"
      ]
     },
     "execution_count": 28,
     "metadata": {},
     "output_type": "execute_result"
    }
   ],
   "source": [
    "model_1=LogisticRegression(penalty='l2', solver = 'sag', C = 0.5)\n",
    "model_1.fit(X_res, y_res)"
   ]
  },
  {
   "cell_type": "code",
   "execution_count": 29,
   "id": "7bb728e4",
   "metadata": {},
   "outputs": [],
   "source": [
    "test_prob_model_1 = model_1.predict_proba(X_test)[:, 1]\n",
    "test_pred_model_1 = model_1.predict(X_test)"
   ]
  },
  {
   "cell_type": "code",
   "execution_count": 30,
   "id": "d3bd5b7e",
   "metadata": {},
   "outputs": [
    {
     "data": {
      "text/html": [
       "<div>\n",
       "<style scoped>\n",
       "    .dataframe tbody tr th:only-of-type {\n",
       "        vertical-align: middle;\n",
       "    }\n",
       "\n",
       "    .dataframe tbody tr th {\n",
       "        vertical-align: top;\n",
       "    }\n",
       "\n",
       "    .dataframe thead th {\n",
       "        text-align: right;\n",
       "    }\n",
       "</style>\n",
       "<table border=\"1\" class=\"dataframe\">\n",
       "  <thead>\n",
       "    <tr style=\"text-align: right;\">\n",
       "      <th></th>\n",
       "      <th>Accuracy</th>\n",
       "    </tr>\n",
       "  </thead>\n",
       "  <tbody>\n",
       "    <tr>\n",
       "      <th>Logistic regression</th>\n",
       "      <td>0.789242</td>\n",
       "    </tr>\n",
       "  </tbody>\n",
       "</table>\n",
       "</div>"
      ],
      "text/plain": [
       "                     Accuracy\n",
       "Logistic regression  0.789242"
      ]
     },
     "execution_count": 30,
     "metadata": {},
     "output_type": "execute_result"
    }
   ],
   "source": [
    "index += [\"Logistic regression\"]\n",
    "scores[\"Accuracy\"].append(accuracy_score(y_test, test_pred_model_1))\n",
    "df_scores = pd.DataFrame(scores, index=index)\n",
    "df_scores"
   ]
  },
  {
   "cell_type": "markdown",
   "id": "49c862ed",
   "metadata": {},
   "source": [
    "### Model 2: Logistic Regresion on PCA components"
   ]
  },
  {
   "cell_type": "code",
   "execution_count": 31,
   "id": "e6069426",
   "metadata": {},
   "outputs": [
    {
     "name": "stdout",
     "output_type": "stream",
     "text": [
      "Best: 0.812499 using {'C': 10, 'penalty': 'l2', 'solver': 'sag'}\n",
      "0.812461 (0.007228) with: {'C': 0.01, 'penalty': 'l2', 'solver': 'sag'}\n",
      "0.812461 (0.007228) with: {'C': 0.01, 'penalty': 'l2', 'solver': 'lbfgs'}\n",
      "0.812473 (0.007376) with: {'C': 0.1, 'penalty': 'l2', 'solver': 'sag'}\n",
      "0.812473 (0.007376) with: {'C': 0.1, 'penalty': 'l2', 'solver': 'lbfgs'}\n",
      "0.812461 (0.007384) with: {'C': 0.2, 'penalty': 'l2', 'solver': 'sag'}\n",
      "0.812461 (0.007384) with: {'C': 0.2, 'penalty': 'l2', 'solver': 'lbfgs'}\n",
      "0.812486 (0.007367) with: {'C': 0.5, 'penalty': 'l2', 'solver': 'sag'}\n",
      "0.812486 (0.007367) with: {'C': 0.5, 'penalty': 'l2', 'solver': 'lbfgs'}\n",
      "0.812486 (0.007367) with: {'C': 0.8, 'penalty': 'l2', 'solver': 'sag'}\n",
      "0.812486 (0.007367) with: {'C': 0.8, 'penalty': 'l2', 'solver': 'lbfgs'}\n",
      "0.812499 (0.007365) with: {'C': 10, 'penalty': 'l2', 'solver': 'sag'}\n",
      "0.812499 (0.007365) with: {'C': 10, 'penalty': 'l2', 'solver': 'lbfgs'}\n"
     ]
    }
   ],
   "source": [
    "model_2 = LogisticRegression(max_iter=300)\n",
    "solvers = ['sag','lbfgs']\n",
    "penalty = ['l2']\n",
    "c_values = [0.01,0.1,0.2,0.5,0.8,10]\n",
    "\n",
    "\n",
    "grid = dict(solver=solvers,penalty=penalty,C=c_values)\n",
    "cv = RepeatedStratifiedKFold(n_splits=10, n_repeats=3, random_state=1)\n",
    "grid_search = GridSearchCV(estimator=model_1, param_grid=grid, n_jobs=-1, cv=cv, scoring='accuracy',error_score=0)\n",
    "grid_result = grid_search.fit(X_pca_res, y_pca_res)\n",
    "\n",
    "\n",
    "print(\"Best: %f using %s\" % (grid_result.best_score_, grid_result.best_params_))\n",
    "means = grid_result.cv_results_['mean_test_score']\n",
    "stds = grid_result.cv_results_['std_test_score']\n",
    "params = grid_result.cv_results_['params']\n",
    "\n",
    "\n",
    "for mean, stdev, param in zip(means, stds, params):\n",
    "    print(\"%f (%f) with: %r\" % (mean, stdev, param))"
   ]
  },
  {
   "cell_type": "code",
   "execution_count": 32,
   "id": "6d66365f",
   "metadata": {},
   "outputs": [
    {
     "data": {
      "text/html": [
       "<style>#sk-container-id-4 {color: black;background-color: white;}#sk-container-id-4 pre{padding: 0;}#sk-container-id-4 div.sk-toggleable {background-color: white;}#sk-container-id-4 label.sk-toggleable__label {cursor: pointer;display: block;width: 100%;margin-bottom: 0;padding: 0.3em;box-sizing: border-box;text-align: center;}#sk-container-id-4 label.sk-toggleable__label-arrow:before {content: \"▸\";float: left;margin-right: 0.25em;color: #696969;}#sk-container-id-4 label.sk-toggleable__label-arrow:hover:before {color: black;}#sk-container-id-4 div.sk-estimator:hover label.sk-toggleable__label-arrow:before {color: black;}#sk-container-id-4 div.sk-toggleable__content {max-height: 0;max-width: 0;overflow: hidden;text-align: left;background-color: #f0f8ff;}#sk-container-id-4 div.sk-toggleable__content pre {margin: 0.2em;color: black;border-radius: 0.25em;background-color: #f0f8ff;}#sk-container-id-4 input.sk-toggleable__control:checked~div.sk-toggleable__content {max-height: 200px;max-width: 100%;overflow: auto;}#sk-container-id-4 input.sk-toggleable__control:checked~label.sk-toggleable__label-arrow:before {content: \"▾\";}#sk-container-id-4 div.sk-estimator input.sk-toggleable__control:checked~label.sk-toggleable__label {background-color: #d4ebff;}#sk-container-id-4 div.sk-label input.sk-toggleable__control:checked~label.sk-toggleable__label {background-color: #d4ebff;}#sk-container-id-4 input.sk-hidden--visually {border: 0;clip: rect(1px 1px 1px 1px);clip: rect(1px, 1px, 1px, 1px);height: 1px;margin: -1px;overflow: hidden;padding: 0;position: absolute;width: 1px;}#sk-container-id-4 div.sk-estimator {font-family: monospace;background-color: #f0f8ff;border: 1px dotted black;border-radius: 0.25em;box-sizing: border-box;margin-bottom: 0.5em;}#sk-container-id-4 div.sk-estimator:hover {background-color: #d4ebff;}#sk-container-id-4 div.sk-parallel-item::after {content: \"\";width: 100%;border-bottom: 1px solid gray;flex-grow: 1;}#sk-container-id-4 div.sk-label:hover label.sk-toggleable__label {background-color: #d4ebff;}#sk-container-id-4 div.sk-serial::before {content: \"\";position: absolute;border-left: 1px solid gray;box-sizing: border-box;top: 0;bottom: 0;left: 50%;z-index: 0;}#sk-container-id-4 div.sk-serial {display: flex;flex-direction: column;align-items: center;background-color: white;padding-right: 0.2em;padding-left: 0.2em;position: relative;}#sk-container-id-4 div.sk-item {position: relative;z-index: 1;}#sk-container-id-4 div.sk-parallel {display: flex;align-items: stretch;justify-content: center;background-color: white;position: relative;}#sk-container-id-4 div.sk-item::before, #sk-container-id-4 div.sk-parallel-item::before {content: \"\";position: absolute;border-left: 1px solid gray;box-sizing: border-box;top: 0;bottom: 0;left: 50%;z-index: -1;}#sk-container-id-4 div.sk-parallel-item {display: flex;flex-direction: column;z-index: 1;position: relative;background-color: white;}#sk-container-id-4 div.sk-parallel-item:first-child::after {align-self: flex-end;width: 50%;}#sk-container-id-4 div.sk-parallel-item:last-child::after {align-self: flex-start;width: 50%;}#sk-container-id-4 div.sk-parallel-item:only-child::after {width: 0;}#sk-container-id-4 div.sk-dashed-wrapped {border: 1px dashed gray;margin: 0 0.4em 0.5em 0.4em;box-sizing: border-box;padding-bottom: 0.4em;background-color: white;}#sk-container-id-4 div.sk-label label {font-family: monospace;font-weight: bold;display: inline-block;line-height: 1.2em;}#sk-container-id-4 div.sk-label-container {text-align: center;}#sk-container-id-4 div.sk-container {/* jupyter's `normalize.less` sets `[hidden] { display: none; }` but bootstrap.min.css set `[hidden] { display: none !important; }` so we also need the `!important` here to be able to override the default hidden behavior on the sphinx rendered scikit-learn.org. See: https://github.com/scikit-learn/scikit-learn/issues/21755 */display: inline-block !important;position: relative;}#sk-container-id-4 div.sk-text-repr-fallback {display: none;}</style><div id=\"sk-container-id-4\" class=\"sk-top-container\"><div class=\"sk-text-repr-fallback\"><pre>LogisticRegression(C=10, solver=&#x27;sag&#x27;)</pre><b>In a Jupyter environment, please rerun this cell to show the HTML representation or trust the notebook. <br />On GitHub, the HTML representation is unable to render, please try loading this page with nbviewer.org.</b></div><div class=\"sk-container\" hidden><div class=\"sk-item\"><div class=\"sk-estimator sk-toggleable\"><input class=\"sk-toggleable__control sk-hidden--visually\" id=\"sk-estimator-id-4\" type=\"checkbox\" checked><label for=\"sk-estimator-id-4\" class=\"sk-toggleable__label sk-toggleable__label-arrow\">LogisticRegression</label><div class=\"sk-toggleable__content\"><pre>LogisticRegression(C=10, solver=&#x27;sag&#x27;)</pre></div></div></div></div></div>"
      ],
      "text/plain": [
       "LogisticRegression(C=10, solver='sag')"
      ]
     },
     "execution_count": 32,
     "metadata": {},
     "output_type": "execute_result"
    }
   ],
   "source": [
    "model_2=LogisticRegression(penalty='l2', solver = 'sag', C = 10)\n",
    "model_2.fit(X_pca_res, y_pca_res)"
   ]
  },
  {
   "cell_type": "code",
   "execution_count": 33,
   "id": "b723a5ce",
   "metadata": {},
   "outputs": [],
   "source": [
    "test_prob_model_2 = model_2.predict_proba(X_pca_test)[:, 1]\n",
    "test_pred_model_2 = model_2.predict(X_pca_test)"
   ]
  },
  {
   "cell_type": "code",
   "execution_count": 34,
   "id": "3101d4fe",
   "metadata": {},
   "outputs": [
    {
     "data": {
      "text/html": [
       "<div>\n",
       "<style scoped>\n",
       "    .dataframe tbody tr th:only-of-type {\n",
       "        vertical-align: middle;\n",
       "    }\n",
       "\n",
       "    .dataframe tbody tr th {\n",
       "        vertical-align: top;\n",
       "    }\n",
       "\n",
       "    .dataframe thead th {\n",
       "        text-align: right;\n",
       "    }\n",
       "</style>\n",
       "<table border=\"1\" class=\"dataframe\">\n",
       "  <thead>\n",
       "    <tr style=\"text-align: right;\">\n",
       "      <th></th>\n",
       "      <th>Accuracy</th>\n",
       "    </tr>\n",
       "  </thead>\n",
       "  <tbody>\n",
       "    <tr>\n",
       "      <th>Logistic regression</th>\n",
       "      <td>0.789242</td>\n",
       "    </tr>\n",
       "    <tr>\n",
       "      <th>Logistic regression on PCA components</th>\n",
       "      <td>0.903633</td>\n",
       "    </tr>\n",
       "  </tbody>\n",
       "</table>\n",
       "</div>"
      ],
      "text/plain": [
       "                                       Accuracy\n",
       "Logistic regression                    0.789242\n",
       "Logistic regression on PCA components  0.903633"
      ]
     },
     "execution_count": 34,
     "metadata": {},
     "output_type": "execute_result"
    }
   ],
   "source": [
    "index += [\"Logistic regression on PCA components\"]\n",
    "scores[\"Accuracy\"].append(accuracy_score(y_pca_test, test_pred_model_2))\n",
    "df_scores = pd.DataFrame(scores, index=index)\n",
    "df_scores"
   ]
  },
  {
   "cell_type": "markdown",
   "id": "2b4b0ae4",
   "metadata": {},
   "source": [
    "### Model 3: Random Forest"
   ]
  },
  {
   "cell_type": "code",
   "execution_count": 35,
   "id": "3b25016b",
   "metadata": {},
   "outputs": [
    {
     "name": "stdout",
     "output_type": "stream",
     "text": [
      "Fitting 5 folds for each of 100 candidates, totalling 500 fits\n"
     ]
    },
    {
     "data": {
      "text/html": [
       "<style>#sk-container-id-5 {color: black;background-color: white;}#sk-container-id-5 pre{padding: 0;}#sk-container-id-5 div.sk-toggleable {background-color: white;}#sk-container-id-5 label.sk-toggleable__label {cursor: pointer;display: block;width: 100%;margin-bottom: 0;padding: 0.3em;box-sizing: border-box;text-align: center;}#sk-container-id-5 label.sk-toggleable__label-arrow:before {content: \"▸\";float: left;margin-right: 0.25em;color: #696969;}#sk-container-id-5 label.sk-toggleable__label-arrow:hover:before {color: black;}#sk-container-id-5 div.sk-estimator:hover label.sk-toggleable__label-arrow:before {color: black;}#sk-container-id-5 div.sk-toggleable__content {max-height: 0;max-width: 0;overflow: hidden;text-align: left;background-color: #f0f8ff;}#sk-container-id-5 div.sk-toggleable__content pre {margin: 0.2em;color: black;border-radius: 0.25em;background-color: #f0f8ff;}#sk-container-id-5 input.sk-toggleable__control:checked~div.sk-toggleable__content {max-height: 200px;max-width: 100%;overflow: auto;}#sk-container-id-5 input.sk-toggleable__control:checked~label.sk-toggleable__label-arrow:before {content: \"▾\";}#sk-container-id-5 div.sk-estimator input.sk-toggleable__control:checked~label.sk-toggleable__label {background-color: #d4ebff;}#sk-container-id-5 div.sk-label input.sk-toggleable__control:checked~label.sk-toggleable__label {background-color: #d4ebff;}#sk-container-id-5 input.sk-hidden--visually {border: 0;clip: rect(1px 1px 1px 1px);clip: rect(1px, 1px, 1px, 1px);height: 1px;margin: -1px;overflow: hidden;padding: 0;position: absolute;width: 1px;}#sk-container-id-5 div.sk-estimator {font-family: monospace;background-color: #f0f8ff;border: 1px dotted black;border-radius: 0.25em;box-sizing: border-box;margin-bottom: 0.5em;}#sk-container-id-5 div.sk-estimator:hover {background-color: #d4ebff;}#sk-container-id-5 div.sk-parallel-item::after {content: \"\";width: 100%;border-bottom: 1px solid gray;flex-grow: 1;}#sk-container-id-5 div.sk-label:hover label.sk-toggleable__label {background-color: #d4ebff;}#sk-container-id-5 div.sk-serial::before {content: \"\";position: absolute;border-left: 1px solid gray;box-sizing: border-box;top: 0;bottom: 0;left: 50%;z-index: 0;}#sk-container-id-5 div.sk-serial {display: flex;flex-direction: column;align-items: center;background-color: white;padding-right: 0.2em;padding-left: 0.2em;position: relative;}#sk-container-id-5 div.sk-item {position: relative;z-index: 1;}#sk-container-id-5 div.sk-parallel {display: flex;align-items: stretch;justify-content: center;background-color: white;position: relative;}#sk-container-id-5 div.sk-item::before, #sk-container-id-5 div.sk-parallel-item::before {content: \"\";position: absolute;border-left: 1px solid gray;box-sizing: border-box;top: 0;bottom: 0;left: 50%;z-index: -1;}#sk-container-id-5 div.sk-parallel-item {display: flex;flex-direction: column;z-index: 1;position: relative;background-color: white;}#sk-container-id-5 div.sk-parallel-item:first-child::after {align-self: flex-end;width: 50%;}#sk-container-id-5 div.sk-parallel-item:last-child::after {align-self: flex-start;width: 50%;}#sk-container-id-5 div.sk-parallel-item:only-child::after {width: 0;}#sk-container-id-5 div.sk-dashed-wrapped {border: 1px dashed gray;margin: 0 0.4em 0.5em 0.4em;box-sizing: border-box;padding-bottom: 0.4em;background-color: white;}#sk-container-id-5 div.sk-label label {font-family: monospace;font-weight: bold;display: inline-block;line-height: 1.2em;}#sk-container-id-5 div.sk-label-container {text-align: center;}#sk-container-id-5 div.sk-container {/* jupyter's `normalize.less` sets `[hidden] { display: none; }` but bootstrap.min.css set `[hidden] { display: none !important; }` so we also need the `!important` here to be able to override the default hidden behavior on the sphinx rendered scikit-learn.org. See: https://github.com/scikit-learn/scikit-learn/issues/21755 */display: inline-block !important;position: relative;}#sk-container-id-5 div.sk-text-repr-fallback {display: none;}</style><div id=\"sk-container-id-5\" class=\"sk-top-container\"><div class=\"sk-text-repr-fallback\"><pre>RandomizedSearchCV(cv=5, estimator=RandomForestClassifier(), n_iter=100,\n",
       "                   n_jobs=-1,\n",
       "                   param_distributions={&#x27;bootstrap&#x27;: [True, False],\n",
       "                                        &#x27;criterion&#x27;: [&#x27;gini&#x27;, &#x27;entropy&#x27;,\n",
       "                                                      &#x27;log_loss&#x27;],\n",
       "                                        &#x27;max_depth&#x27;: [10, 20, 30, 40, 50, 60,\n",
       "                                                      70, 80, 90, 100],\n",
       "                                        &#x27;max_features&#x27;: [&#x27;auto&#x27;, &#x27;sqrt&#x27;],\n",
       "                                        &#x27;min_samples_leaf&#x27;: [1, 3, 4],\n",
       "                                        &#x27;min_samples_split&#x27;: [2, 6, 10],\n",
       "                                        &#x27;n_estimators&#x27;: [5, 20, 50, 100]},\n",
       "                   random_state=35, scoring=&#x27;accuracy&#x27;, verbose=2)</pre><b>In a Jupyter environment, please rerun this cell to show the HTML representation or trust the notebook. <br />On GitHub, the HTML representation is unable to render, please try loading this page with nbviewer.org.</b></div><div class=\"sk-container\" hidden><div class=\"sk-item sk-dashed-wrapped\"><div class=\"sk-label-container\"><div class=\"sk-label sk-toggleable\"><input class=\"sk-toggleable__control sk-hidden--visually\" id=\"sk-estimator-id-5\" type=\"checkbox\" ><label for=\"sk-estimator-id-5\" class=\"sk-toggleable__label sk-toggleable__label-arrow\">RandomizedSearchCV</label><div class=\"sk-toggleable__content\"><pre>RandomizedSearchCV(cv=5, estimator=RandomForestClassifier(), n_iter=100,\n",
       "                   n_jobs=-1,\n",
       "                   param_distributions={&#x27;bootstrap&#x27;: [True, False],\n",
       "                                        &#x27;criterion&#x27;: [&#x27;gini&#x27;, &#x27;entropy&#x27;,\n",
       "                                                      &#x27;log_loss&#x27;],\n",
       "                                        &#x27;max_depth&#x27;: [10, 20, 30, 40, 50, 60,\n",
       "                                                      70, 80, 90, 100],\n",
       "                                        &#x27;max_features&#x27;: [&#x27;auto&#x27;, &#x27;sqrt&#x27;],\n",
       "                                        &#x27;min_samples_leaf&#x27;: [1, 3, 4],\n",
       "                                        &#x27;min_samples_split&#x27;: [2, 6, 10],\n",
       "                                        &#x27;n_estimators&#x27;: [5, 20, 50, 100]},\n",
       "                   random_state=35, scoring=&#x27;accuracy&#x27;, verbose=2)</pre></div></div></div><div class=\"sk-parallel\"><div class=\"sk-parallel-item\"><div class=\"sk-item\"><div class=\"sk-label-container\"><div class=\"sk-label sk-toggleable\"><input class=\"sk-toggleable__control sk-hidden--visually\" id=\"sk-estimator-id-6\" type=\"checkbox\" ><label for=\"sk-estimator-id-6\" class=\"sk-toggleable__label sk-toggleable__label-arrow\">estimator: RandomForestClassifier</label><div class=\"sk-toggleable__content\"><pre>RandomForestClassifier()</pre></div></div></div><div class=\"sk-serial\"><div class=\"sk-item\"><div class=\"sk-estimator sk-toggleable\"><input class=\"sk-toggleable__control sk-hidden--visually\" id=\"sk-estimator-id-7\" type=\"checkbox\" ><label for=\"sk-estimator-id-7\" class=\"sk-toggleable__label sk-toggleable__label-arrow\">RandomForestClassifier</label><div class=\"sk-toggleable__content\"><pre>RandomForestClassifier()</pre></div></div></div></div></div></div></div></div></div></div>"
      ],
      "text/plain": [
       "RandomizedSearchCV(cv=5, estimator=RandomForestClassifier(), n_iter=100,\n",
       "                   n_jobs=-1,\n",
       "                   param_distributions={'bootstrap': [True, False],\n",
       "                                        'criterion': ['gini', 'entropy',\n",
       "                                                      'log_loss'],\n",
       "                                        'max_depth': [10, 20, 30, 40, 50, 60,\n",
       "                                                      70, 80, 90, 100],\n",
       "                                        'max_features': ['auto', 'sqrt'],\n",
       "                                        'min_samples_leaf': [1, 3, 4],\n",
       "                                        'min_samples_split': [2, 6, 10],\n",
       "                                        'n_estimators': [5, 20, 50, 100]},\n",
       "                   random_state=35, scoring='accuracy', verbose=2)"
      ]
     },
     "execution_count": 35,
     "metadata": {},
     "output_type": "execute_result"
    }
   ],
   "source": [
    "criterion = [\"gini\", \"entropy\", \"log_loss\"]\n",
    "n_estimators = [5,20,50,100]\n",
    "max_features = ['auto', 'sqrt']\n",
    "max_depth = [int(x) for x in np.linspace(10, 100, num = 10)]\n",
    "min_samples_split = [2, 6, 10]\n",
    "min_samples_leaf = [1, 3, 4] \n",
    "bootstrap = [True, False] \n",
    "\n",
    "random_grid = {'n_estimators': n_estimators,'criterion':criterion,'max_features': max_features,'max_depth': max_depth,\n",
    "               'min_samples_split': min_samples_split,'min_samples_leaf': min_samples_leaf,'bootstrap': bootstrap}\n",
    "\n",
    "model_3 = RandomForestClassifier()\n",
    "\n",
    "model_3_random = RandomizedSearchCV(estimator = model_3, param_distributions = random_grid, n_iter = 100,\n",
    "                                    cv = 5, verbose=2, scoring='accuracy',random_state=35, n_jobs = -1)\n",
    "model_3_random.fit(X_res,y_res)\n"
   ]
  },
  {
   "cell_type": "code",
   "execution_count": 36,
   "id": "fa0b4d27",
   "metadata": {},
   "outputs": [
    {
     "name": "stdout",
     "output_type": "stream",
     "text": [
      "Best_Score 94.94035105907929\n",
      "Best Parameters:  {'n_estimators': 5, 'min_samples_split': 2, 'min_samples_leaf': 3, 'max_features': 'auto', 'max_depth': 10, 'criterion': 'entropy', 'bootstrap': True}\n"
     ]
    }
   ],
   "source": [
    "print('Best_Score',model_3_random.best_score_ * 100)\n",
    "print ('Best Parameters: ', model_3_random.best_params_)"
   ]
  },
  {
   "cell_type": "code",
   "execution_count": 37,
   "id": "07e75fec",
   "metadata": {},
   "outputs": [
    {
     "data": {
      "text/html": [
       "<style>#sk-container-id-6 {color: black;background-color: white;}#sk-container-id-6 pre{padding: 0;}#sk-container-id-6 div.sk-toggleable {background-color: white;}#sk-container-id-6 label.sk-toggleable__label {cursor: pointer;display: block;width: 100%;margin-bottom: 0;padding: 0.3em;box-sizing: border-box;text-align: center;}#sk-container-id-6 label.sk-toggleable__label-arrow:before {content: \"▸\";float: left;margin-right: 0.25em;color: #696969;}#sk-container-id-6 label.sk-toggleable__label-arrow:hover:before {color: black;}#sk-container-id-6 div.sk-estimator:hover label.sk-toggleable__label-arrow:before {color: black;}#sk-container-id-6 div.sk-toggleable__content {max-height: 0;max-width: 0;overflow: hidden;text-align: left;background-color: #f0f8ff;}#sk-container-id-6 div.sk-toggleable__content pre {margin: 0.2em;color: black;border-radius: 0.25em;background-color: #f0f8ff;}#sk-container-id-6 input.sk-toggleable__control:checked~div.sk-toggleable__content {max-height: 200px;max-width: 100%;overflow: auto;}#sk-container-id-6 input.sk-toggleable__control:checked~label.sk-toggleable__label-arrow:before {content: \"▾\";}#sk-container-id-6 div.sk-estimator input.sk-toggleable__control:checked~label.sk-toggleable__label {background-color: #d4ebff;}#sk-container-id-6 div.sk-label input.sk-toggleable__control:checked~label.sk-toggleable__label {background-color: #d4ebff;}#sk-container-id-6 input.sk-hidden--visually {border: 0;clip: rect(1px 1px 1px 1px);clip: rect(1px, 1px, 1px, 1px);height: 1px;margin: -1px;overflow: hidden;padding: 0;position: absolute;width: 1px;}#sk-container-id-6 div.sk-estimator {font-family: monospace;background-color: #f0f8ff;border: 1px dotted black;border-radius: 0.25em;box-sizing: border-box;margin-bottom: 0.5em;}#sk-container-id-6 div.sk-estimator:hover {background-color: #d4ebff;}#sk-container-id-6 div.sk-parallel-item::after {content: \"\";width: 100%;border-bottom: 1px solid gray;flex-grow: 1;}#sk-container-id-6 div.sk-label:hover label.sk-toggleable__label {background-color: #d4ebff;}#sk-container-id-6 div.sk-serial::before {content: \"\";position: absolute;border-left: 1px solid gray;box-sizing: border-box;top: 0;bottom: 0;left: 50%;z-index: 0;}#sk-container-id-6 div.sk-serial {display: flex;flex-direction: column;align-items: center;background-color: white;padding-right: 0.2em;padding-left: 0.2em;position: relative;}#sk-container-id-6 div.sk-item {position: relative;z-index: 1;}#sk-container-id-6 div.sk-parallel {display: flex;align-items: stretch;justify-content: center;background-color: white;position: relative;}#sk-container-id-6 div.sk-item::before, #sk-container-id-6 div.sk-parallel-item::before {content: \"\";position: absolute;border-left: 1px solid gray;box-sizing: border-box;top: 0;bottom: 0;left: 50%;z-index: -1;}#sk-container-id-6 div.sk-parallel-item {display: flex;flex-direction: column;z-index: 1;position: relative;background-color: white;}#sk-container-id-6 div.sk-parallel-item:first-child::after {align-self: flex-end;width: 50%;}#sk-container-id-6 div.sk-parallel-item:last-child::after {align-self: flex-start;width: 50%;}#sk-container-id-6 div.sk-parallel-item:only-child::after {width: 0;}#sk-container-id-6 div.sk-dashed-wrapped {border: 1px dashed gray;margin: 0 0.4em 0.5em 0.4em;box-sizing: border-box;padding-bottom: 0.4em;background-color: white;}#sk-container-id-6 div.sk-label label {font-family: monospace;font-weight: bold;display: inline-block;line-height: 1.2em;}#sk-container-id-6 div.sk-label-container {text-align: center;}#sk-container-id-6 div.sk-container {/* jupyter's `normalize.less` sets `[hidden] { display: none; }` but bootstrap.min.css set `[hidden] { display: none !important; }` so we also need the `!important` here to be able to override the default hidden behavior on the sphinx rendered scikit-learn.org. See: https://github.com/scikit-learn/scikit-learn/issues/21755 */display: inline-block !important;position: relative;}#sk-container-id-6 div.sk-text-repr-fallback {display: none;}</style><div id=\"sk-container-id-6\" class=\"sk-top-container\"><div class=\"sk-text-repr-fallback\"><pre>RandomForestClassifier(criterion=&#x27;entropy&#x27;, max_depth=10, max_features=&#x27;auto&#x27;,\n",
       "                       min_samples_leaf=3, n_estimators=5)</pre><b>In a Jupyter environment, please rerun this cell to show the HTML representation or trust the notebook. <br />On GitHub, the HTML representation is unable to render, please try loading this page with nbviewer.org.</b></div><div class=\"sk-container\" hidden><div class=\"sk-item\"><div class=\"sk-estimator sk-toggleable\"><input class=\"sk-toggleable__control sk-hidden--visually\" id=\"sk-estimator-id-8\" type=\"checkbox\" checked><label for=\"sk-estimator-id-8\" class=\"sk-toggleable__label sk-toggleable__label-arrow\">RandomForestClassifier</label><div class=\"sk-toggleable__content\"><pre>RandomForestClassifier(criterion=&#x27;entropy&#x27;, max_depth=10, max_features=&#x27;auto&#x27;,\n",
       "                       min_samples_leaf=3, n_estimators=5)</pre></div></div></div></div></div>"
      ],
      "text/plain": [
       "RandomForestClassifier(criterion='entropy', max_depth=10, max_features='auto',\n",
       "                       min_samples_leaf=3, n_estimators=5)"
      ]
     },
     "execution_count": 37,
     "metadata": {},
     "output_type": "execute_result"
    }
   ],
   "source": [
    "model_3 = RandomForestClassifier(n_estimators=5,min_samples_split=2,min_samples_leaf=3,max_features='auto',\n",
    "                                max_depth=10,criterion='entropy',bootstrap=True)\n",
    "model_3.fit(X_res,y_res)"
   ]
  },
  {
   "cell_type": "code",
   "execution_count": 38,
   "id": "8dd33c3d",
   "metadata": {},
   "outputs": [],
   "source": [
    "test_prob_model_3 = model_3.predict_proba(X_test)[:, 1]\n",
    "test_pred_model_3 = model_3.predict(X_test)"
   ]
  },
  {
   "cell_type": "code",
   "execution_count": 39,
   "id": "ce540e47",
   "metadata": {},
   "outputs": [
    {
     "data": {
      "text/html": [
       "<div>\n",
       "<style scoped>\n",
       "    .dataframe tbody tr th:only-of-type {\n",
       "        vertical-align: middle;\n",
       "    }\n",
       "\n",
       "    .dataframe tbody tr th {\n",
       "        vertical-align: top;\n",
       "    }\n",
       "\n",
       "    .dataframe thead th {\n",
       "        text-align: right;\n",
       "    }\n",
       "</style>\n",
       "<table border=\"1\" class=\"dataframe\">\n",
       "  <thead>\n",
       "    <tr style=\"text-align: right;\">\n",
       "      <th></th>\n",
       "      <th>Accuracy</th>\n",
       "    </tr>\n",
       "  </thead>\n",
       "  <tbody>\n",
       "    <tr>\n",
       "      <th>Logistic regression</th>\n",
       "      <td>0.789242</td>\n",
       "    </tr>\n",
       "    <tr>\n",
       "      <th>Logistic regression on PCA components</th>\n",
       "      <td>0.903633</td>\n",
       "    </tr>\n",
       "    <tr>\n",
       "      <th>Random Forest</th>\n",
       "      <td>0.947346</td>\n",
       "    </tr>\n",
       "  </tbody>\n",
       "</table>\n",
       "</div>"
      ],
      "text/plain": [
       "                                       Accuracy\n",
       "Logistic regression                    0.789242\n",
       "Logistic regression on PCA components  0.903633\n",
       "Random Forest                          0.947346"
      ]
     },
     "execution_count": 39,
     "metadata": {},
     "output_type": "execute_result"
    }
   ],
   "source": [
    "index += [\"Random Forest\"]\n",
    "scores[\"Accuracy\"].append(accuracy_score(y_test, test_pred_model_3))\n",
    "df_scores = pd.DataFrame(scores, index=index)\n",
    "df_scores"
   ]
  },
  {
   "cell_type": "markdown",
   "id": "09b91356",
   "metadata": {},
   "source": [
    "### XGBoost"
   ]
  },
  {
   "cell_type": "code",
   "execution_count": 40,
   "id": "6cf06047",
   "metadata": {},
   "outputs": [
    {
     "data": {
      "text/plain": [
       "({'max_depth': 3, 'min_child_weight': 5}, 0.9298687037843877)"
      ]
     },
     "execution_count": 40,
     "metadata": {},
     "output_type": "execute_result"
    }
   ],
   "source": [
    "param_grid = {'max_depth':range(3,10,2),'min_child_weight':range(1,6,2)}\n",
    "model_4 = XGBClassifier()\n",
    "xgb_grid = GridSearchCV(estimator = model_4, param_grid = param_grid, scoring='accuracy',n_jobs=4, cv=5)\n",
    "xgb_grid.fit(X_res,y_res)\n",
    "xgb_grid.best_params_, xgb_grid.best_score_"
   ]
  },
  {
   "cell_type": "code",
   "execution_count": 41,
   "id": "c2df498c",
   "metadata": {},
   "outputs": [
    {
     "data": {
      "text/html": [
       "<style>#sk-container-id-7 {color: black;background-color: white;}#sk-container-id-7 pre{padding: 0;}#sk-container-id-7 div.sk-toggleable {background-color: white;}#sk-container-id-7 label.sk-toggleable__label {cursor: pointer;display: block;width: 100%;margin-bottom: 0;padding: 0.3em;box-sizing: border-box;text-align: center;}#sk-container-id-7 label.sk-toggleable__label-arrow:before {content: \"▸\";float: left;margin-right: 0.25em;color: #696969;}#sk-container-id-7 label.sk-toggleable__label-arrow:hover:before {color: black;}#sk-container-id-7 div.sk-estimator:hover label.sk-toggleable__label-arrow:before {color: black;}#sk-container-id-7 div.sk-toggleable__content {max-height: 0;max-width: 0;overflow: hidden;text-align: left;background-color: #f0f8ff;}#sk-container-id-7 div.sk-toggleable__content pre {margin: 0.2em;color: black;border-radius: 0.25em;background-color: #f0f8ff;}#sk-container-id-7 input.sk-toggleable__control:checked~div.sk-toggleable__content {max-height: 200px;max-width: 100%;overflow: auto;}#sk-container-id-7 input.sk-toggleable__control:checked~label.sk-toggleable__label-arrow:before {content: \"▾\";}#sk-container-id-7 div.sk-estimator input.sk-toggleable__control:checked~label.sk-toggleable__label {background-color: #d4ebff;}#sk-container-id-7 div.sk-label input.sk-toggleable__control:checked~label.sk-toggleable__label {background-color: #d4ebff;}#sk-container-id-7 input.sk-hidden--visually {border: 0;clip: rect(1px 1px 1px 1px);clip: rect(1px, 1px, 1px, 1px);height: 1px;margin: -1px;overflow: hidden;padding: 0;position: absolute;width: 1px;}#sk-container-id-7 div.sk-estimator {font-family: monospace;background-color: #f0f8ff;border: 1px dotted black;border-radius: 0.25em;box-sizing: border-box;margin-bottom: 0.5em;}#sk-container-id-7 div.sk-estimator:hover {background-color: #d4ebff;}#sk-container-id-7 div.sk-parallel-item::after {content: \"\";width: 100%;border-bottom: 1px solid gray;flex-grow: 1;}#sk-container-id-7 div.sk-label:hover label.sk-toggleable__label {background-color: #d4ebff;}#sk-container-id-7 div.sk-serial::before {content: \"\";position: absolute;border-left: 1px solid gray;box-sizing: border-box;top: 0;bottom: 0;left: 50%;z-index: 0;}#sk-container-id-7 div.sk-serial {display: flex;flex-direction: column;align-items: center;background-color: white;padding-right: 0.2em;padding-left: 0.2em;position: relative;}#sk-container-id-7 div.sk-item {position: relative;z-index: 1;}#sk-container-id-7 div.sk-parallel {display: flex;align-items: stretch;justify-content: center;background-color: white;position: relative;}#sk-container-id-7 div.sk-item::before, #sk-container-id-7 div.sk-parallel-item::before {content: \"\";position: absolute;border-left: 1px solid gray;box-sizing: border-box;top: 0;bottom: 0;left: 50%;z-index: -1;}#sk-container-id-7 div.sk-parallel-item {display: flex;flex-direction: column;z-index: 1;position: relative;background-color: white;}#sk-container-id-7 div.sk-parallel-item:first-child::after {align-self: flex-end;width: 50%;}#sk-container-id-7 div.sk-parallel-item:last-child::after {align-self: flex-start;width: 50%;}#sk-container-id-7 div.sk-parallel-item:only-child::after {width: 0;}#sk-container-id-7 div.sk-dashed-wrapped {border: 1px dashed gray;margin: 0 0.4em 0.5em 0.4em;box-sizing: border-box;padding-bottom: 0.4em;background-color: white;}#sk-container-id-7 div.sk-label label {font-family: monospace;font-weight: bold;display: inline-block;line-height: 1.2em;}#sk-container-id-7 div.sk-label-container {text-align: center;}#sk-container-id-7 div.sk-container {/* jupyter's `normalize.less` sets `[hidden] { display: none; }` but bootstrap.min.css set `[hidden] { display: none !important; }` so we also need the `!important` here to be able to override the default hidden behavior on the sphinx rendered scikit-learn.org. See: https://github.com/scikit-learn/scikit-learn/issues/21755 */display: inline-block !important;position: relative;}#sk-container-id-7 div.sk-text-repr-fallback {display: none;}</style><div id=\"sk-container-id-7\" class=\"sk-top-container\"><div class=\"sk-text-repr-fallback\"><pre>XGBClassifier(base_score=0.5, booster=&#x27;gbtree&#x27;, callbacks=None,\n",
       "              colsample_bylevel=1, colsample_bynode=1, colsample_bytree=1,\n",
       "              early_stopping_rounds=None, enable_categorical=False,\n",
       "              eval_metric=None, feature_types=None, gamma=0, gpu_id=-1,\n",
       "              grow_policy=&#x27;depthwise&#x27;, importance_type=None,\n",
       "              interaction_constraints=&#x27;&#x27;, learning_rate=0.300000012,\n",
       "              max_bin=256, max_cat_threshold=64, max_cat_to_onehot=4,\n",
       "              max_delta_step=0, max_depth=3, max_leaves=0, min_child_weight=5,\n",
       "              missing=nan, monotone_constraints=&#x27;()&#x27;, n_estimators=100,\n",
       "              n_jobs=0, num_parallel_tree=1, predictor=&#x27;auto&#x27;, random_state=0, ...)</pre><b>In a Jupyter environment, please rerun this cell to show the HTML representation or trust the notebook. <br />On GitHub, the HTML representation is unable to render, please try loading this page with nbviewer.org.</b></div><div class=\"sk-container\" hidden><div class=\"sk-item\"><div class=\"sk-estimator sk-toggleable\"><input class=\"sk-toggleable__control sk-hidden--visually\" id=\"sk-estimator-id-9\" type=\"checkbox\" checked><label for=\"sk-estimator-id-9\" class=\"sk-toggleable__label sk-toggleable__label-arrow\">XGBClassifier</label><div class=\"sk-toggleable__content\"><pre>XGBClassifier(base_score=0.5, booster=&#x27;gbtree&#x27;, callbacks=None,\n",
       "              colsample_bylevel=1, colsample_bynode=1, colsample_bytree=1,\n",
       "              early_stopping_rounds=None, enable_categorical=False,\n",
       "              eval_metric=None, feature_types=None, gamma=0, gpu_id=-1,\n",
       "              grow_policy=&#x27;depthwise&#x27;, importance_type=None,\n",
       "              interaction_constraints=&#x27;&#x27;, learning_rate=0.300000012,\n",
       "              max_bin=256, max_cat_threshold=64, max_cat_to_onehot=4,\n",
       "              max_delta_step=0, max_depth=3, max_leaves=0, min_child_weight=5,\n",
       "              missing=nan, monotone_constraints=&#x27;()&#x27;, n_estimators=100,\n",
       "              n_jobs=0, num_parallel_tree=1, predictor=&#x27;auto&#x27;, random_state=0, ...)</pre></div></div></div></div></div>"
      ],
      "text/plain": [
       "XGBClassifier(base_score=0.5, booster='gbtree', callbacks=None,\n",
       "              colsample_bylevel=1, colsample_bynode=1, colsample_bytree=1,\n",
       "              early_stopping_rounds=None, enable_categorical=False,\n",
       "              eval_metric=None, feature_types=None, gamma=0, gpu_id=-1,\n",
       "              grow_policy='depthwise', importance_type=None,\n",
       "              interaction_constraints='', learning_rate=0.300000012,\n",
       "              max_bin=256, max_cat_threshold=64, max_cat_to_onehot=4,\n",
       "              max_delta_step=0, max_depth=3, max_leaves=0, min_child_weight=5,\n",
       "              missing=nan, monotone_constraints='()', n_estimators=100,\n",
       "              n_jobs=0, num_parallel_tree=1, predictor='auto', random_state=0, ...)"
      ]
     },
     "execution_count": 41,
     "metadata": {},
     "output_type": "execute_result"
    }
   ],
   "source": [
    "model_4 = XGBClassifier(max_depth = 3, min_child_weight = 5)\n",
    "model_4.fit(X_res,y_res)"
   ]
  },
  {
   "cell_type": "code",
   "execution_count": 42,
   "id": "eaf618d2",
   "metadata": {},
   "outputs": [],
   "source": [
    "test_prob_model_4 = model_4.predict_proba(X_test)[:, 1]\n",
    "test_pred_model_4 = model_4.predict(X_test)"
   ]
  },
  {
   "cell_type": "code",
   "execution_count": 43,
   "id": "f2741e11",
   "metadata": {},
   "outputs": [
    {
     "data": {
      "text/html": [
       "<div>\n",
       "<style scoped>\n",
       "    .dataframe tbody tr th:only-of-type {\n",
       "        vertical-align: middle;\n",
       "    }\n",
       "\n",
       "    .dataframe tbody tr th {\n",
       "        vertical-align: top;\n",
       "    }\n",
       "\n",
       "    .dataframe thead th {\n",
       "        text-align: right;\n",
       "    }\n",
       "</style>\n",
       "<table border=\"1\" class=\"dataframe\">\n",
       "  <thead>\n",
       "    <tr style=\"text-align: right;\">\n",
       "      <th></th>\n",
       "      <th>Accuracy</th>\n",
       "    </tr>\n",
       "  </thead>\n",
       "  <tbody>\n",
       "    <tr>\n",
       "      <th>Logistic regression</th>\n",
       "      <td>0.789242</td>\n",
       "    </tr>\n",
       "    <tr>\n",
       "      <th>Logistic regression on PCA components</th>\n",
       "      <td>0.903633</td>\n",
       "    </tr>\n",
       "    <tr>\n",
       "      <th>Random Forest</th>\n",
       "      <td>0.947346</td>\n",
       "    </tr>\n",
       "    <tr>\n",
       "      <th>XGBoost</th>\n",
       "      <td>0.953449</td>\n",
       "    </tr>\n",
       "  </tbody>\n",
       "</table>\n",
       "</div>"
      ],
      "text/plain": [
       "                                       Accuracy\n",
       "Logistic regression                    0.789242\n",
       "Logistic regression on PCA components  0.903633\n",
       "Random Forest                          0.947346\n",
       "XGBoost                                0.953449"
      ]
     },
     "execution_count": 43,
     "metadata": {},
     "output_type": "execute_result"
    }
   ],
   "source": [
    "index += [\"XGBoost\"]\n",
    "scores[\"Accuracy\"].append(accuracy_score(y_test, test_pred_model_4))\n",
    "df_scores = pd.DataFrame(scores, index=index)\n",
    "df_scores"
   ]
  },
  {
   "cell_type": "markdown",
   "id": "45779255",
   "metadata": {},
   "source": [
    "## Comparing Different Models"
   ]
  },
  {
   "cell_type": "code",
   "execution_count": 44,
   "id": "35b3e75c",
   "metadata": {},
   "outputs": [],
   "source": [
    "targets = [test_pred_model_1, test_pred_model_2, test_pred_model_3, test_pred_model_4]\n",
    "models = ['Logistics Regression','Logistic Regression on PCA components', 'RandomForestClassifier','XGBoost Classifier']"
   ]
  },
  {
   "cell_type": "code",
   "execution_count": 45,
   "id": "18a66a42",
   "metadata": {},
   "outputs": [],
   "source": [
    "y_pred_1 = model_1.predict_proba(X_test)[::,1]\n",
    "fpr_1, tpr_1,_ = roc_curve(y_test,  y_pred_1)\n",
    "auc_1 = roc_auc_score(y_test, y_pred_1)\n",
    "\n",
    "y_pred_2 = model_2.predict_proba(X_pca_test)[::,1]\n",
    "fpr_2, tpr_2,_ = roc_curve(y_pca_test,  y_pred_2)\n",
    "auc_2 = roc_auc_score(y_test, y_pred_2)\n",
    "\n",
    "y_pred_3 = model_3.predict_proba(X_test)[::,1]\n",
    "fpr_3, tpr_3,_ = roc_curve(y_test,  y_pred_3)\n",
    "auc_3 = roc_auc_score(y_test, y_pred_3)\n",
    "\n",
    "y_pred_4 = model_4.predict_proba(X_test)[::,1]\n",
    "fpr_4, tpr_4,_ = roc_curve(y_test,  y_pred_4)\n",
    "auc_4 = roc_auc_score(y_test, y_pred_4)"
   ]
  },
  {
   "cell_type": "code",
   "execution_count": 46,
   "id": "3f17f933",
   "metadata": {},
   "outputs": [
    {
     "data": {
      "text/plain": [
       "Text(0, 0.5, 'True Positive Rate')"
      ]
     },
     "execution_count": 46,
     "metadata": {},
     "output_type": "execute_result"
    },
    {
     "data": {
      "image/png": "[encoded data removed]",
      "text/plain": [
       "<Figure size 792x648 with 4 Axes>"
      ]
     },
     "metadata": {},
     "output_type": "display_data"
    }
   ],
   "source": [
    "sns.set()\n",
    "fig1, (ax1, ax2) = plt.subplots(2, 2, figsize = (11, 9), sharex = True,sharey='col')\n",
    "\n",
    "ax1[0].plot(fpr_1, tpr_1,label=\"AUC=\"+str(auc_1),color = 'green')\n",
    "ax1[0].legend(loc=4)\n",
    "ax1[0].set_title(models[0])\n",
    "ax1[0].set_ylabel('True Positive Rate')\n",
    "ax1[1].plot(fpr_2,tpr_2,label=\"AUC=\"+str(auc_2),color = 'black')\n",
    "ax1[1].legend(loc=4)\n",
    "ax1[1].set_title(models[1])\n",
    "ax1[1].set_ylabel('True Positive Rate')\n",
    "\n",
    "ax2[0].plot(fpr_3, tpr_3,label=\"AUC=\"+str(auc_3),color = 'orange')\n",
    "ax2[0].legend(loc=4)\n",
    "ax2[0].set_title(models[2])\n",
    "ax2[0].set_ylabel('True Positive Rate')\n",
    "ax2[1].plot(fpr_4,tpr_4,label=\"AUC=\"+str(auc_4),color = 'red')\n",
    "ax2[1].legend(loc=4)\n",
    "ax2[1].set_title(models[3])\n",
    "ax2[1].set_ylabel('True Positive Rate')"
   ]
  },
  {
   "cell_type": "code",
   "execution_count": 47,
   "id": "2d5aba5b",
   "metadata": {},
   "outputs": [
    {
     "name": "stdout",
     "output_type": "stream",
     "text": [
      "Logistics Regression\n",
      "               precision    recall  f1-score   support\n",
      "\n",
      "not_purchased       0.98      0.79      0.88      6633\n",
      "    purchased       0.19      0.78      0.30       413\n",
      "\n",
      "     accuracy                           0.79      7046\n",
      "    macro avg       0.59      0.79      0.59      7046\n",
      " weighted avg       0.94      0.79      0.84      7046\n",
      " \n",
      "\n",
      "78.92421231904628 \n",
      "\n",
      "Logistic Regression on PCA components\n",
      "               precision    recall  f1-score   support\n",
      "\n",
      "not_purchased       0.98      0.92      0.95      6633\n",
      "    purchased       0.34      0.67      0.45       413\n",
      "\n",
      "     accuracy                           0.90      7046\n",
      "    macro avg       0.66      0.79      0.70      7046\n",
      " weighted avg       0.94      0.90      0.92      7046\n",
      " \n",
      "\n",
      "90.36332671019018 \n",
      "\n",
      "RandomForestClassifier\n",
      "               precision    recall  f1-score   support\n",
      "\n",
      "not_purchased       0.97      0.97      0.97      6633\n",
      "    purchased       0.55      0.51      0.53       413\n",
      "\n",
      "     accuracy                           0.95      7046\n",
      "    macro avg       0.76      0.74      0.75      7046\n",
      " weighted avg       0.95      0.95      0.95      7046\n",
      " \n",
      "\n",
      "94.73460119216577 \n",
      "\n",
      "XGBoost Classifier\n",
      "               precision    recall  f1-score   support\n",
      "\n",
      "not_purchased       0.97      0.98      0.98      6633\n",
      "    purchased       0.63      0.50      0.56       413\n",
      "\n",
      "     accuracy                           0.95      7046\n",
      "    macro avg       0.80      0.74      0.77      7046\n",
      " weighted avg       0.95      0.95      0.95      7046\n",
      " \n",
      "\n",
      "95.34487652568833 \n",
      "\n"
     ]
    }
   ],
   "source": [
    "print(models[0])\n",
    "print(classification_report(y_test,test_pred_model_1,target_names=['not_purchased','purchased']),'\\n')\n",
    "print(accuracy_score(y_test,test_pred_model_1)*100,'\\n')\n",
    "\n",
    "print(models[1])\n",
    "print(classification_report(y_pca_test,test_pred_model_2,target_names=['not_purchased','purchased']),'\\n')\n",
    "print(accuracy_score(y_pca_test,test_pred_model_2)*100,'\\n')\n",
    "\n",
    "print(models[2])\n",
    "print(classification_report(y_test,test_pred_model_3,target_names=['not_purchased','purchased']),'\\n')\n",
    "print(accuracy_score(y_test,test_pred_model_3)*100,'\\n')\n",
    "\n",
    "print(models[3])\n",
    "print(classification_report(y_test,test_pred_model_4,target_names=['not_purchased','purchased']),'\\n')\n",
    "print(accuracy_score(y_test,test_pred_model_4)*100,'\\n')"
   ]
  },
  {
   "cell_type": "markdown",
   "id": "01b15ea3",
   "metadata": {},
   "source": [
    "Based on evaluation criteria (Accuracy), we have XGBoost as the most optimum model. We will review other performance metrics of the model here. Note that model of choice and evaluation might differ if we have different performance criteria other than Accuracy (eg. for Recall we will prefer Logistic Regression outcome)"
   ]
  },
  {
   "cell_type": "code",
   "execution_count": 48,
   "id": "fb8da4af",
   "metadata": {},
   "outputs": [],
   "source": [
    "# XGBoost\n",
    "test_prob = test_prob_model_4\n",
    "test_pred = test_pred_model_4"
   ]
  },
  {
   "cell_type": "code",
   "execution_count": 49,
   "id": "f22f8510",
   "metadata": {},
   "outputs": [
    {
     "name": "stdout",
     "output_type": "stream",
     "text": [
      "Log loss = 0.15959\n",
      "AUC = 0.86087\n",
      "Average Precision = 0.53042\n",
      "\n",
      "Using 0.5 as threshold:\n",
      "Accuracy = 0.95345\n",
      "Precision = 0.62997\n",
      "Recall = 0.49879\n",
      "F1 score = 0.55676\n",
      "\n",
      "Classification Report\n",
      "              precision    recall  f1-score   support\n",
      "\n",
      "           0       0.97      0.98      0.98      6633\n",
      "           1       0.63      0.50      0.56       413\n",
      "\n",
      "    accuracy                           0.95      7046\n",
      "   macro avg       0.80      0.74      0.77      7046\n",
      "weighted avg       0.95      0.95      0.95      7046\n",
      "\n"
     ]
    }
   ],
   "source": [
    "print('Log loss = {:.5f}'.format(log_loss(y_test, test_prob)))\n",
    "print('AUC = {:.5f}'.format(roc_auc_score(y_test, test_prob)))\n",
    "print('Average Precision = {:.5f}'.format(average_precision_score(y_test, test_prob)))\n",
    "print('\\nUsing 0.5 as threshold:')\n",
    "print('Accuracy = {:.5f}'.format(accuracy_score(y_test, test_pred)))\n",
    "print('Precision = {:.5f}'.format(precision_score(y_test, test_pred)))\n",
    "print('Recall = {:.5f}'.format(recall_score(y_test, test_pred)))\n",
    "print('F1 score = {:.5f}'.format(f1_score(y_test, test_pred)))\n",
    "\n",
    "print('\\nClassification Report')\n",
    "print(classification_report(y_test, test_pred))"
   ]
  },
  {
   "cell_type": "markdown",
   "id": "506100d7",
   "metadata": {},
   "source": [
    "### Confusion Matrix"
   ]
  },
  {
   "cell_type": "code",
   "execution_count": 50,
   "id": "7126558c",
   "metadata": {},
   "outputs": [
    {
     "data": {
      "text/plain": [
       "<sklearn.metrics._plot.confusion_matrix.ConfusionMatrixDisplay at 0x1b1e60e30a0>"
      ]
     },
     "execution_count": 50,
     "metadata": {},
     "output_type": "execute_result"
    },
    {
     "data": {
      "image/png": "[encoded data removed]",
      "text/plain": [
       "<Figure size 432x288 with 2 Axes>"
      ]
     },
     "metadata": {},
     "output_type": "display_data"
    }
   ],
   "source": [
    "cm = confusion_matrix(y_test, test_pred, labels=model_4.classes_)\n",
    "disp = ConfusionMatrixDisplay(confusion_matrix=cm, display_labels=model_4.classes_)\n",
    "disp.plot()"
   ]
  },
  {
   "cell_type": "markdown",
   "id": "4dbc0162",
   "metadata": {},
   "source": [
    "## Deployment"
   ]
  },
  {
   "cell_type": "code",
   "execution_count": 61,
   "id": "b0566e11",
   "metadata": {},
   "outputs": [],
   "source": [
    "pickle.dump(model_4,open('Model_365_Data_Challenge.pickle','wb'))"
   ]
  },
  {
   "cell_type": "code",
   "execution_count": 2,
   "id": "70d82520",
   "metadata": {},
   "outputs": [],
   "source": [
    "model = pickle.load(open('Model_365_Data_Challenge.pickle', 'rb'))"
   ]
  },
  {
   "cell_type": "code",
   "execution_count": 10,
   "id": "0d688647",
   "metadata": {},
   "outputs": [
    {
     "data": {
      "text/plain": [
       "array([1])"
      ]
     },
     "execution_count": 10,
     "metadata": {},
     "output_type": "execute_result"
    }
   ],
   "source": [
    "model.predict(np.array([[262.,  6. ,  10. ,  3. ,  5. ,  0. ]]))"
   ]
  }
 ],
 "metadata": {
  "kernelspec": {
   "display_name": "Python 3 (ipykernel)",
   "language": "python",
   "name": "python3"
  },
  "language_info": {
   "codemirror_mode": {
    "name": "ipython",
    "version": 3
   },
   "file_extension": ".py",
   "mimetype": "text/x-python",
   "name": "python",
   "nbconvert_exporter": "python",
   "pygments_lexer": "ipython3",
   "version": "3.9.12"
  }
 },
 "nbformat": 4,
 "nbformat_minor": 5
}
